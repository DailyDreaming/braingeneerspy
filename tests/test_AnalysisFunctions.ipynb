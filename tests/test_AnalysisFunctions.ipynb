{
 "cells": [
  {
   "cell_type": "markdown",
   "id": "bb611281",
   "metadata": {},
   "source": [
    "# Read Me\n",
    "    Functions to be mergered into Analysis.py in Braingeneerspy package"
   ]
  },
  {
   "cell_type": "markdown",
   "id": "6a2eb7ee",
   "metadata": {},
   "source": [
    "# Import Library"
   ]
  },
  {
   "cell_type": "code",
   "execution_count": 95,
   "id": "c84bb3e2",
   "metadata": {},
   "outputs": [],
   "source": [
    "import numpy as np\n",
    "import matplotlib.pyplot as plt\n",
    "import scipy \n",
    "import statsmodels.api as sm\n",
    "import math\n",
    "\n",
    "import jdc  # for %%add_to 'class' magic"
   ]
  },
  {
   "cell_type": "markdown",
   "id": "32e0692b",
   "metadata": {},
   "source": [
    "# Functions"
   ]
  },
  {
   "cell_type": "markdown",
   "id": "647d9188",
   "metadata": {},
   "source": [
    "## Computation"
   ]
  },
  {
   "cell_type": "code",
   "execution_count": 96,
   "id": "0520e4a5",
   "metadata": {},
   "outputs": [],
   "source": [
    "class SpikeData():\n",
    "    def __init__(self, spike_times):\n",
    "        'initiate the spike time train for a recording'\n",
    "        self.train = spike_times\n",
    "    \n",
    "    def interspike_intervals(self):\n",
    "        'get interspike interval for each neuron'\n",
    "        return [np.diff(ts) for ts in self.train]\n",
    "    \n",
    "    def skewness(self):\n",
    "        'Skewness of interspike interval distribution.'\n",
    "        intervals = self.interspike_intervals()\n",
    "        return [scipy.stats.skew(intl) for intl in intervals]"
   ]
  },
  {
   "cell_type": "code",
   "execution_count": 97,
   "id": "a8d5519a",
   "metadata": {},
   "outputs": [],
   "source": [
    "%%add_to SpikeData\n",
    "def log_histogram(self, bin_num=300):\n",
    "    intervals = self.interspike_intervals()\n",
    "    ret_hist = []\n",
    "    ret_logbins = []\n",
    "    for ts in intervals:\n",
    "        log_bins = np.logspace(np.log10(min(ts)),np.log10(max(ts)), bin_num+1)\n",
    "        hist, _ = np.histogram(ts, log_bins)\n",
    "        ret_hist.append(hist)\n",
    "        ret_logbins.append(log_bins)\n",
    "    return ret_hist, ret_logbins"
   ]
  },
  {
   "cell_type": "code",
   "execution_count": 98,
   "id": "fab6e217",
   "metadata": {
    "code_folding": []
   },
   "outputs": [],
   "source": [
    "%%add_to SpikeData\n",
    "def culmulative_moving_average(self, hist):\n",
    "    '''\n",
    "    The culmulative moving average for a histogram. Return a list of cma. \n",
    "    '''\n",
    "    ret = []\n",
    "    for h in hist:\n",
    "        cma = 0\n",
    "        cma_list = []\n",
    "        for i in range(len(h)):\n",
    "            cma = (cma * i + h[i]) / (i+1)\n",
    "            cma_list.append(cma)\n",
    "        ret.append(cma_list)\n",
    "    return ret"
   ]
  },
  {
   "cell_type": "code",
   "execution_count": 99,
   "id": "53541831",
   "metadata": {},
   "outputs": [],
   "source": [
    "%%add_to SpikeData\n",
    "def max_cma(self, hist):\n",
    "    '''\n",
    "    Return the maximum cma and its index for a histogram.\n",
    "    '''\n",
    "    max_list = []\n",
    "    max_idx = []\n",
    "    for h in hist:\n",
    "        cma = 0\n",
    "        cma_list = []\n",
    "        for i in range(len(h)):\n",
    "            cma = (cma * i + h[i]) / (i+1)\n",
    "            cma_list.append(cma)\n",
    "        max_list.append(max(cma_list))\n",
    "        max_idx.append(np.argmax(cma_list))\n",
    "    return max_list, max_idx"
   ]
  },
  {
   "cell_type": "code",
   "execution_count": 100,
   "id": "8d070372",
   "metadata": {},
   "outputs": [],
   "source": [
    "%%add_to SpikeData\n",
    "def isi_threshold_cma(self, hist, bins, coef=1):\n",
    "    '''\n",
    "    Calculate interspike interval threshold from cumulative moving average[1]. Return threshold.  \n",
    "    The threshold is the corresponding bin that has the max cma in the interspike interval histogram.\n",
    "    Histogram and bins are default to logarithm. \n",
    "    [1] Kapucu, Fikret Emre, et al. Frontiers in computational neuroscience 6 (2012): 38.\n",
    "    '''\n",
    "    isi_thr = []\n",
    "    for n in range(len(hist)):\n",
    "        h = hist[n]   \n",
    "        max_idx = 0\n",
    "        cma = 0\n",
    "        cma_list = []\n",
    "        for i in range(len(h)):\n",
    "            cma = (cma * i + h[i]) / (i+1)\n",
    "            cma_list.append(cma)\n",
    "        max_idx = np.argmax(cma_list)     \n",
    "        thr = (bins[n][max_idx+1]) * coef\n",
    "        isi_thr.append(thr)\n",
    "    \n",
    "    return isi_thr"
   ]
  },
  {
   "cell_type": "code",
   "execution_count": 101,
   "id": "34c28160",
   "metadata": {},
   "outputs": [],
   "source": [
    "%%add_to SpikeData\n",
    "def lowess_smooth(hist, bins):\n",
    "    '''smooth the logISIH with local linear regression.'''\n",
    "    lowess = sm.nonparametric.lowess\n",
    "    yest_sm = lowess(hist, bins[0:len(bins)-1], frac=12/300, it=3, return_sorted = False)\n",
    "    return yest_sm"
   ]
  },
  {
   "cell_type": "code",
   "execution_count": 102,
   "id": "16f66d65",
   "metadata": {},
   "outputs": [],
   "source": [
    "%%add_to SpikeData\n",
    "def peaks_and_valleys(yest_sm):\n",
    "    '''find the first two peaks and the valley between them. Return the value of peaks and valley, and their indexes'''\n",
    "    peaks_idx, _ = scipy.signal.find_peaks(yest_sm, distance=2)\n",
    "    peaks = sorted(yest_sm[peaks_idx])\n",
    "    peak_1 = peaks[-1]\n",
    "    peak_2 = peaks[-2]\n",
    "    peak_1_idx = np.where(yest_sm == peak_1)[0][0]\n",
    "    peak_2_idx = np.where(yest_sm == peak_2)[0][0]\n",
    "    peaks_idx = sorted([peak_1_idx, peak_2_idx])\n",
    "    valley = min(yest_sm[peaks_idx[0]: peaks_idx[1]])\n",
    "    valley_idx = np.where(yest_sm == valley)[0][0]\n",
    "    return [(peak_1, peak_1_idx), (peak_2, peak_2_idx), (valley, valley_idx)]"
   ]
  },
  {
   "cell_type": "code",
   "execution_count": 103,
   "id": "a15ff7b2",
   "metadata": {},
   "outputs": [],
   "source": [
    "%%add_to SpikeData\n",
    "def void_parameter(peak_1, peak_2, valley):\n",
    "    '''Calculate void parameter.'''\n",
    "    return 1 - (valley/math.sqrt(peak_1*peak_2))"
   ]
  },
  {
   "cell_type": "code",
   "execution_count": 104,
   "id": "2616ace0",
   "metadata": {},
   "outputs": [],
   "source": [
    "%%add_to SpikeData\n",
    "def isi_threshold_pm(self, hist, bins):\n",
    "    '''\n",
    "    Calculate interspike interval threshold from peaks and local minima [1]. Return threshold. \n",
    "    [1] Pasquale, Valentina, et al. Journal of computational neuroscience 29.1 (2010): 213-229.\n",
    "    '''\n",
    "    yest_sm = lowess_smooth(hist, bins)\n",
    "    pk_1, pk_2, vly = peaks_and_valleys(yest_sm)\n",
    "    vp = void_parameter(pk_1[0], pk_2[0], vly[0])\n",
    "    return bins_n[vly[1]+1], vp"
   ]
  },
  {
   "cell_type": "markdown",
   "id": "0ca2b316",
   "metadata": {},
   "source": [
    "## Burst Detection"
   ]
  },
  {
   "cell_type": "code",
   "execution_count": 105,
   "id": "59bec0cc",
   "metadata": {},
   "outputs": [],
   "source": [
    "def burst_detection(spike_times, burst_threshold, spike_num_thr=3):\n",
    "    '''\n",
    "    Detect burst from spike times with a interspike interval threshold (burst_threshold) and a spike number threshold (spike_num_thr).\n",
    "    The interspike interval threshold can be calculated from cumulative moving average function or peaks and minimum function\n",
    "    or set manually. \n",
    "    Spike number threshold is set manually.\n",
    "    Returns:\n",
    "        spike_num_list -- a list of [burst start idx, number of spikes in this burst]\n",
    "        burst_set -- a list of spike times in all the bursts. \n",
    "    '''\n",
    "    spike_num_burst = 1\n",
    "    spike_num_list = []    # [burst start idx, number of spikes in this burst]\n",
    "    for i in range(len(spike_times)-1):\n",
    "        if spike_times[i+1] - spike_times[i] <= burst_threshold:\n",
    "            spike_num_burst += 1 \n",
    "        else:\n",
    "            if spike_num_burst >= spike_num_thr:\n",
    "                spike_num_list.append([i-spike_num_burst+1, spike_num_burst]) \n",
    "                spike_num_burst = 1\n",
    "            else:\n",
    "                spike_num_burst = 1\n",
    "    burst_set = []\n",
    "    for loc in spike_num_list:\n",
    "        for i in range(loc[1]):\n",
    "            burst_set.append(spike_times[loc[0]+i])\n",
    "    return spike_num_list, burst_set"
   ]
  },
  {
   "cell_type": "markdown",
   "id": "82578824",
   "metadata": {},
   "source": [
    "## Visualization"
   ]
  },
  {
   "cell_type": "code",
   "execution_count": 106,
   "id": "be533977",
   "metadata": {},
   "outputs": [],
   "source": [
    "%%add_to SpikeData\n",
    "def logISI_histogram(isi, logbins):\n",
    "    '''logISIH for each neuron using subplot.'''\n",
    "    num1 = len(isi)\n",
    "    num2 = len(logbins)\n",
    "    if num1 != num2:\n",
    "        return \"Error: Input data length inconsistent!\"\n",
    "    \n",
    "    col = 5\n",
    "    if len(isi)%col != 0:\n",
    "        row = int(len(isi)//col + 1)\n",
    "    else:\n",
    "        row = int(len(isi)//col)\n",
    "        \n",
    "    fig, axs = plt.subplots(row, col, figsize=(12*row, 8*col))\n",
    "    for r in range(row):\n",
    "        for c in range(col):\n",
    "            if col*r+c < len(isi):\n",
    "                axs[r, c].hist(isi[col*r+c], logbins[col*r+c], rwidth=0.9)\n",
    "                axs[r, c].set_xscale('log')\n",
    "                axs[r, c].set_xlabel('ISI, time (s)', fontsize=16)\n",
    "                axs[r, c].set_ylabel('Number of Intervals', fontsize=16)\n",
    "            else:\n",
    "                axs[r, c].set_axis_off()\n",
    "            \n",
    "    plt.show()"
   ]
  },
  {
   "cell_type": "code",
   "execution_count": 107,
   "id": "99ac3f6e",
   "metadata": {},
   "outputs": [],
   "source": [
    "%%add_to SpikeData\n",
    "def smoothed_LogISIH(y_values, bins):\n",
    "    '''plot smoothed result with principal peaks and local minima using subplot.'''\n",
    "    num1 = len(y_values)\n",
    "    num2 = len(bins)\n",
    "    if num1 != num2:\n",
    "        return \"Error: Input data length inconsistent!\"\n",
    "    \n",
    "    col = 5\n",
    "    if len(y_values)%col != 0:\n",
    "        row = int(len(y_values)//col + 1)\n",
    "    else:\n",
    "        row = int(len(y_values)//col)\n",
    "        \n",
    "    yest_sm = []\n",
    "    peaks_valley = []\n",
    "    for i in range(len(y_values)):\n",
    "        y = lowess_smooth(y_values[i], bins[i])\n",
    "#         print(i, y[0:20])\n",
    "        peaks_valley.append(peaks_and_valleys(y))\n",
    "        yest_sm.append(y)\n",
    "    \n",
    "    fig, axs = plt.subplots(row, col, figsize=(12*row, 8*col))\n",
    "    for r in range(row):\n",
    "        for c in range(col):\n",
    "            if col*r+c < len(y_values):\n",
    "                x_bins = bins[col*r+c]\n",
    "                x_bins = x_bins[0:len(x_bins)-1]\n",
    "                axs[r, c].scatter(x_bins, y_values[col*r+c])\n",
    "                axs[r, c].plot(x_bins, yest_sm[col*r+c], linewidth=2, color='green', label='lowess: statsmodel')\n",
    "                for i in peaks_valley[col*r+c]:\n",
    "                    axs[r, c].plot(x_bins[i[1]], i[0], '*', color='magenta', markersize=16, linewidth=4)\n",
    "                axs[r, c].set_xscale('log')\n",
    "                axs[r, c].set_xlabel('ISI, time (s)', fontsize=16)\n",
    "                axs[r, c].set_ylabel('Number of Intervals', fontsize=16)\n",
    "                axs[r, c].legend(fontsize=16)\n",
    "            else:\n",
    "                axs[r, c].set_axis_off()\n",
    "            \n",
    "    plt.show()"
   ]
  },
  {
   "cell_type": "code",
   "execution_count": 108,
   "id": "7e5074a3",
   "metadata": {},
   "outputs": [],
   "source": [
    "def labeled_raster(spike_times, burst_set, burst_st, cut, start_point, end_point):   \n",
    "    '''Plot raster with burst start point, bursts and every spike time. 'spike_times' is the list for one neuron'''\n",
    "    if cut == True:\n",
    "        st = start_point\n",
    "        en = end_point\n",
    "        spike_times = [spk for spk in spike_times if spk > st and spk < en]\n",
    "        burst_st = [spk for spk in burst_st if spk > st and spk < en]\n",
    "        burst_set = [spk for spk in burst_set if spk > st and spk < en]\n",
    "        \n",
    "    fig, axs = plt.subplots(1, 1, figsize=(36, 12))\n",
    "    axs.eventplot(burst_st, linelengths=1, linewidth=2, color='blue', alpha=0.4)\n",
    "    axs.eventplot(burst_set, linelengths=0.7, linewidth=0.8, color='red', alpha=1)\n",
    "    axs.eventplot(spike_times, linelengths=0.3, linewidth=0.8, color='green', alpha=1)\n",
    "    \n",
    "    axs.set_xlabel('Time (s)', fontsize=16)\n",
    "    axs.set_ylabel('Unites', fontsize=16)\n",
    "    axs.tick_params(labelsize=16)\n",
    "    \n",
    "    plt.show()"
   ]
  },
  {
   "cell_type": "code",
   "execution_count": null,
   "id": "fdab4861",
   "metadata": {},
   "outputs": [],
   "source": []
  }
 ],
 "metadata": {
  "hide_input": false,
  "kernelspec": {
   "display_name": "Python 3",
   "language": "python",
   "name": "python3"
  },
  "language_info": {
   "codemirror_mode": {
    "name": "ipython",
    "version": 3
   },
   "file_extension": ".py",
   "mimetype": "text/x-python",
   "name": "python",
   "nbconvert_exporter": "python",
   "pygments_lexer": "ipython3",
   "version": "3.8.8"
  },
  "toc": {
   "base_numbering": 1,
   "nav_menu": {},
   "number_sections": true,
   "sideBar": true,
   "skip_h1_title": false,
   "title_cell": "Table of Contents",
   "title_sidebar": "Contents",
   "toc_cell": false,
   "toc_position": {},
   "toc_section_display": true,
   "toc_window_display": false
  }
 },
 "nbformat": 4,
 "nbformat_minor": 5
}
