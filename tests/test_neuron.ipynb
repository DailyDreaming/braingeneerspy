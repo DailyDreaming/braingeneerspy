{
 "cells": [
  {
   "cell_type": "code",
   "execution_count": 1,
   "metadata": {},
   "outputs": [
    {
     "name": "stderr",
     "output_type": "stream",
     "text": [
      "C:\\Users\\Ash\\Anaconda3\\envs\\bgr\\lib\\site-packages\\numpy\\_distributor_init.py:32: UserWarning: loaded more than 1 DLL from .libs:\n",
      "C:\\Users\\Ash\\Anaconda3\\envs\\bgr\\lib\\site-packages\\numpy\\.libs\\libopenblas.NOIJJG62EMASZI6NYURL6JBKM4EVBGM7.gfortran-win_amd64.dll\n",
      "C:\\Users\\Ash\\Anaconda3\\envs\\bgr\\lib\\site-packages\\numpy\\.libs\\libopenblas.PYQHXLVVQ7VESDPUVUADXEVJOBGHJPAY.gfortran-win_amd64.dll\n",
      "  stacklevel=1)\n"
     ]
    }
   ],
   "source": [
    "import numpy as np\n",
    "import matplotlib\n",
    "from matplotlib import pyplot as plt\n",
    "from matplotlib import cm\n",
    "import neuraltoolkit as ntk\n",
    "import pandas as pd\n",
    "import sklearn\n",
    "from sklearn.preprocessing import StandardScaler\n",
    "from sklearn.decomposition import PCA\n",
    "from sklearn.datasets import load_digits\n",
    "from sklearn.cluster import KMeans\n",
    "import copy\n",
    "#import mgktools as mgk\n",
    "import musclebeachtools as mbt\n",
    "#Need to add musclebeachtools to path\n",
    "\n",
    "import spikeinterface.extractors as se\n",
    "import spikeinterface.toolkit as st\n",
    "import spikeinterface.sorters as ss\n",
    "import spikeinterface.comparison as sc\n",
    "import spikeinterface.widgets as sw\n",
    "import mountainlab_pytools as mtlp\n",
    "\n",
    "import tkinter as tk\n",
    "from tkinter import filedialog\n",
    "\n",
    "import numpy as np\n",
    "import matplotlib.pyplot as plt\n",
    "#%matplotlib\n",
    "#import matplotlib.backends.backend_pdf as mpdf\n",
    "import seaborn as sns\n",
    "import json\n",
    "import time\n",
    "import os\n",
    "import os.path as op\n",
    "import glob\n",
    "import re\n",
    "import scipy\n",
    "import sys\n",
    "import boto3\n",
    "\n",
    "\n",
    "%matplotlib inline\n",
    "plt.rcParams.update({\"text.usetex\":False})"
   ]
  },
  {
   "cell_type": "markdown",
   "metadata": {},
   "source": [
    "# This needs to be adjusted/generalized"
   ]
  },
  {
   "cell_type": "code",
   "execution_count": 2,
   "metadata": {},
   "outputs": [],
   "source": [
    "sys.path.append('C:\\\\Users\\\\Ash\\\\github\\\\musclebeachtools_hlab')"
   ]
  },
  {
   "cell_type": "code",
   "execution_count": null,
   "metadata": {},
   "outputs": [],
   "source": []
  },
  {
   "cell_type": "code",
   "execution_count": 3,
   "metadata": {},
   "outputs": [],
   "source": [
    "def spiketimes_to_spikewords(spiketimes, startime, stoptime, binsize, binarize): \n",
    "    ### ARGUMENTS\n",
    "    #spiketimes - list of spiketime arrays where each element of list is for a different neuron (e.g. the output of getspikes())\n",
    "    #startime,stoptime - bounds of time to convert to spikewords (in seconds)\n",
    "    #binsize - size of bin in milliseconds\n",
    "    #binarize - '1' to convert to 0's and 1's, '0' to keep as histogram counts\n",
    "    ### RETURNS\n",
    "    #array of spikewords with each column as a cell and each rows as time in bins \n",
    "    \n",
    "    #get sec_time to bin conversion factor\n",
    "    #startime in bins\n",
    "    startime_ms = startime * 1000\n",
    "    stoptime_ms = stoptime * 1000\n",
    "    binrange = np.arange(start = startime_ms, stop = stoptime_ms+1, step = binsize)\n",
    "    n_cells = len(spiketimes)\n",
    "\n",
    "    spikewords_array = np.zeros([n_cells, binrange.shape[0]-1])\n",
    "    for i in range(n_cells):\n",
    "        spiketimes_cell = spiketimes[i] * 1000 #spiketimes in seconds * 1000 msec/sec\n",
    "        counts, bins = np.histogram(spiketimes_cell, bins = binrange)\n",
    "        if binarize == 1:\n",
    "            #binarize the counts\n",
    "            counts[counts>0] = 1\n",
    "        # print(counts.astype(np.int))\n",
    "        spikewords_array[i,:] = counts\n",
    "    return(spikewords_array.astype(np.int8).T)"
   ]
  },
  {
   "cell_type": "markdown",
   "metadata": {},
   "source": [
    "# List/select from s3, use boto"
   ]
  },
  {
   "cell_type": "code",
   "execution_count": 4,
   "metadata": {},
   "outputs": [
    {
     "name": "stdout",
     "output_type": "stream",
     "text": [
      "2020-08-19 21:41:19    2060999 rasters.zip\n",
      "2020-08-20 00:31:51   84538420 spikeintf_well_A1_chgroup_1.zip\n",
      "2020-08-20 00:31:07   65328019 spikeintf_well_A1_chgroup_2.zip\n",
      "2020-08-20 00:19:03   66966749 spikeintf_well_A1_chgroup_3.zip\n",
      "2020-08-20 00:39:14   92616758 spikeintf_well_A2_chgroup_1.zip\n",
      "2020-08-20 00:17:49   95908691 spikeintf_well_A2_chgroup_2.zip\n",
      "2020-08-20 00:19:29   70411390 spikeintf_well_A2_chgroup_3.zip\n",
      "2020-08-20 00:31:50   99927074 spikeintf_well_A2_chgroup_4.zip\n",
      "2020-08-20 00:18:44  106986646 spikeintf_well_A2_chgroup_5.zip\n",
      "2020-08-20 00:21:54   80408305 spikeintf_well_A2_chgroup_6.zip\n",
      "2020-08-20 00:21:12   36064377 spikeintf_well_A3_chgroup_1.zip\n",
      "2020-08-20 00:23:42   80976232 spikeintf_well_B1_chgroup_1.zip\n",
      "2020-08-20 00:24:48  110808978 spikeintf_well_B1_chgroup_2.zip\n",
      "2020-08-20 00:26:42   92682115 spikeintf_well_B1_chgroup_3.zip\n",
      "2020-08-20 00:27:02   83125882 spikeintf_well_B1_chgroup_4.zip\n",
      "2020-08-20 00:30:13  118010892 spikeintf_well_B1_chgroup_5.zip\n",
      "2020-08-20 00:31:01   78098213 spikeintf_well_B1_chgroup_6.zip\n",
      "2020-08-20 00:29:37   78707412 spikeintf_well_B2_chgroup_1.zip\n",
      "2020-08-20 00:31:27  136864278 spikeintf_well_B2_chgroup_2.zip\n",
      "2020-08-20 00:39:39  165325175 spikeintf_well_B2_chgroup_3.zip\n",
      "2020-08-20 00:34:40  131205284 spikeintf_well_B2_chgroup_4.zip\n",
      "2020-08-20 00:38:52  105310133 spikeintf_well_B2_chgroup_5.zip\n",
      "2020-08-20 00:41:19   76893852 spikeintf_well_B2_chgroup_6.zip\n",
      "2020-08-20 00:43:47  133023138 spikeintf_well_B2_chgroup_7.zip\n",
      "2020-08-20 00:54:18  172704519 spikeintf_well_B2_chgroup_8.zip\n",
      "2020-08-20 00:40:55  110084315 spikeintf_well_B3_chgroup_1.zip\n",
      "2020-08-20 00:54:49   73033156 spikeintf_well_B3_chgroup_2.zip\n",
      "2020-08-20 00:57:48  136724198 spikeintf_well_B3_chgroup_3.zip\n",
      "2020-08-20 00:49:44   80763355 spikeintf_well_B3_chgroup_4.zip\n",
      "2020-08-20 00:48:56  109760175 spikeintf_well_B3_chgroup_5.zip\n"
     ]
    }
   ],
   "source": [
    "!aws --endpoint https://s3.nautilus.optiputer.net s3 ls s3://braingeneers/ephys/2020-07-06-e-MGK-76-2614-PreDrug/mgk_results/"
   ]
  },
  {
   "cell_type": "code",
   "execution_count": 5,
   "metadata": {},
   "outputs": [],
   "source": [
    "# import boto3\n",
    "\n",
    "# s3 = boto3.resource('s3')\n",
    "# bucket = s3.Bucket('https://braingeneers.s3.us-west-1.amazonaws.com')\n",
    "# for obj in bucket.objects.all():\n",
    "#     print(obj.key, obj.last_modified)"
   ]
  },
  {
   "cell_type": "code",
   "execution_count": 6,
   "metadata": {},
   "outputs": [],
   "source": [
    "\n",
    "# session = boto3.Session(profile_name='default',config=my_config)\n",
    "\n",
    "\n",
    "# s3 = session.resource('s3')\n",
    "# my_bucket = s3.Bucket('braingeneers/')\n",
    "\n",
    "# s3client = boto3.client('s3',config=my_config)\n",
    "\n",
    "# response = s3client.list_buckets()\n",
    "\n",
    "\n",
    "# print('Existing buckets:')\n",
    "# for bucket in response['Buckets']:\n",
    "#     print(f'  {bucket[\"Name\"]}')"
   ]
  },
  {
   "cell_type": "code",
   "execution_count": 7,
   "metadata": {},
   "outputs": [],
   "source": [
    "# s3.list_buckets()\n",
    "\n",
    "# for my_bucket_object in my_bucket.objects.all():\n",
    "#     print(my_bucket_object)"
   ]
  },
  {
   "cell_type": "code",
   "execution_count": 8,
   "metadata": {},
   "outputs": [],
   "source": [
    "# for key in s3client.list_objects(Bucket='bucket_name')['Contents']:\n",
    "#     print(key['Key'])"
   ]
  },
  {
   "cell_type": "markdown",
   "metadata": {},
   "source": [
    "# When downloaded locally: \n",
    "Load in data"
   ]
  },
  {
   "cell_type": "code",
   "execution_count": null,
   "metadata": {},
   "outputs": [],
   "source": [
    "\n"
   ]
  },
  {
   "cell_type": "raw",
   "metadata": {},
   "source": [
    "!aws --endpoint https://s3.nautilus.optiputer.net s3 sync s3://braingeneers/ephys/2020-07-06-e-MGK-76-2614-PreDrug/mgk_results/ matt/."
   ]
  },
  {
   "cell_type": "markdown",
   "metadata": {},
   "source": [
    "# Change wd to results dir from download"
   ]
  },
  {
   "cell_type": "code",
   "execution_count": 9,
   "metadata": {},
   "outputs": [
    {
     "name": "stdout",
     "output_type": "stream",
     "text": [
      "C:\\Users\\Ash\\github\\braingeneerspy\\tests\n",
      "Changed to:  C:\\Users\\Ash\\Desktop\\matt\\root\\data\\2020-07-06-e-MGK-76-2614-PreDrug\\results\n"
     ]
    }
   ],
   "source": [
    "print(os.getcwd())\n",
    "os.chdir('../../../Desktop/matt/root/data/2020-07-06-e-MGK-76-2614-PreDrug/results')\n",
    "print('Changed to: ',os.getcwd())\n"
   ]
  },
  {
   "cell_type": "code",
   "execution_count": 10,
   "metadata": {},
   "outputs": [],
   "source": [
    "# I hate this, fix?\n",
    "sys.modules['musclebeachtools_hlab'] = sys.modules['musclebeachtools']\n",
    "sys.modules['musclebeachtools_hlab.musclebeachtools'] = sys.modules['musclebeachtools']"
   ]
  },
  {
   "cell_type": "markdown",
   "metadata": {},
   "source": [
    "# Load in data for well A1 channel"
   ]
  },
  {
   "cell_type": "code",
   "execution_count": 11,
   "metadata": {},
   "outputs": [
    {
     "name": "stderr",
     "output_type": "stream",
     "text": [
      "2020-11-12 11:27:45,621 - musclebeachtools_hlab.musclebeachtools.mbt_neurons - INFO - Updating spike_amplitude\n",
      "2020-11-12 11:27:45,624 - musclebeachtools_hlab.musclebeachtools.mbt_neurons - INFO - Updating spike_amplitude\n",
      "2020-11-12 11:27:45,628 - musclebeachtools_hlab.musclebeachtools.mbt_neurons - INFO - Updating spike_amplitude\n"
     ]
    }
   ],
   "source": [
    "well='A1ch'\n",
    "c=0\n",
    "n = None\n",
    "for f in sorted(glob.glob(well+'*')):\n",
    "    n_temp = np.load(f+'/spikeintf/outputs/neurons_group0.npy', allow_pickle=True)\n",
    "    n_amp = mbt.mbt_neurons.load_spike_amplitudes(n_temp, f+'/spikeintf/outputs/amplitudes0.npy')\n",
    "    \n",
    "    n_prb = open(glob.glob(f+'/spikeintf/inputs/*probefile.prb')[0])\n",
    "    lines = n_prb.readlines()\n",
    "    real_chans = []\n",
    "    s = lines[5]\n",
    "    n = s.split()\n",
    "    for chan in range(1,len(n)):\n",
    "        #print(n[chan])\n",
    "        result = re.search('c_(.*)\\'', n[chan])\n",
    "        real_chans.append(int(result.group(1)))\n",
    "        \n",
    "    for i in range(len(n_temp)):\n",
    "        chan = n_temp[i].peak_channel\n",
    "        #print(chan)\n",
    "        n_temp[i].peak_channel = real_chans[chan]\n",
    "    \n",
    "    n_prb.close()\n",
    "    \n",
    "    if c == 0:\n",
    "        nrn = n_temp\n",
    "    else:\n",
    "        nrn = np.append(nrn, n_temp)\n",
    "    \n",
    "    c = c+1\n",
    "    \n",
    "n = nrn"
   ]
  },
  {
   "cell_type": "code",
   "execution_count": 12,
   "metadata": {},
   "outputs": [
    {
     "data": {
      "text/plain": [
       "array(['Neuron(sp_cluster, sp_times, quality, meanwaveform,meanwaveformspline, peak_channel)',\n",
       "       'Neuron(sp_cluster, sp_times, quality, meanwaveform,meanwaveformspline, peak_channel)',\n",
       "       'Neuron(sp_cluster, sp_times, quality, meanwaveform,meanwaveformspline, peak_channel)',\n",
       "       'Neuron(sp_cluster, sp_times, quality, meanwaveform,meanwaveformspline, peak_channel)',\n",
       "       'Neuron(sp_cluster, sp_times, quality, meanwaveform,meanwaveformspline, peak_channel)',\n",
       "       'Neuron(sp_cluster, sp_times, quality, meanwaveform,meanwaveformspline, peak_channel)',\n",
       "       'Neuron(sp_cluster, sp_times, quality, meanwaveform,meanwaveformspline, peak_channel)',\n",
       "       'Neuron(sp_cluster, sp_times, quality, meanwaveform,meanwaveformspline, peak_channel)',\n",
       "       'Neuron(sp_cluster, sp_times, quality, meanwaveform,meanwaveformspline, peak_channel)',\n",
       "       'Neuron(sp_cluster, sp_times, quality, meanwaveform,meanwaveformspline, peak_channel)',\n",
       "       'Neuron(sp_cluster, sp_times, quality, meanwaveform,meanwaveformspline, peak_channel)',\n",
       "       'Neuron(sp_cluster, sp_times, quality, meanwaveform,meanwaveformspline, peak_channel)',\n",
       "       'Neuron(sp_cluster, sp_times, quality, meanwaveform,meanwaveformspline, peak_channel)',\n",
       "       'Neuron(sp_cluster, sp_times, quality, meanwaveform,meanwaveformspline, peak_channel)',\n",
       "       'Neuron(sp_cluster, sp_times, quality, meanwaveform,meanwaveformspline, peak_channel)',\n",
       "       'Neuron(sp_cluster, sp_times, quality, meanwaveform,meanwaveformspline, peak_channel)',\n",
       "       'Neuron(sp_cluster, sp_times, quality, meanwaveform,meanwaveformspline, peak_channel)',\n",
       "       'Neuron(sp_cluster, sp_times, quality, meanwaveform,meanwaveformspline, peak_channel)',\n",
       "       'Neuron(sp_cluster, sp_times, quality, meanwaveform,meanwaveformspline, peak_channel)',\n",
       "       'Neuron(sp_cluster, sp_times, quality, meanwaveform,meanwaveformspline, peak_channel)',\n",
       "       'Neuron(sp_cluster, sp_times, quality, meanwaveform,meanwaveformspline, peak_channel)',\n",
       "       'Neuron(sp_cluster, sp_times, quality, meanwaveform,meanwaveformspline, peak_channel)',\n",
       "       'Neuron(sp_cluster, sp_times, quality, meanwaveform,meanwaveformspline, peak_channel)',\n",
       "       'Neuron(sp_cluster, sp_times, quality, meanwaveform,meanwaveformspline, peak_channel)',\n",
       "       'Neuron(sp_cluster, sp_times, quality, meanwaveform,meanwaveformspline, peak_channel)',\n",
       "       'Neuron(sp_cluster, sp_times, quality, meanwaveform,meanwaveformspline, peak_channel)',\n",
       "       'Neuron(sp_cluster, sp_times, quality, meanwaveform,meanwaveformspline, peak_channel)',\n",
       "       'Neuron(sp_cluster, sp_times, quality, meanwaveform,meanwaveformspline, peak_channel)'],\n",
       "      dtype=object)"
      ]
     },
     "execution_count": 12,
     "metadata": {},
     "output_type": "execute_result"
    }
   ],
   "source": [
    "n"
   ]
  },
  {
   "cell_type": "code",
   "execution_count": 13,
   "metadata": {},
   "outputs": [
    {
     "name": "stdout",
     "output_type": "stream",
     "text": [
      "clust_idx\n",
      "spike_time\n",
      "quality\n",
      "waveform\n",
      "waveforms\n",
      "peak_channel\n",
      "fs\n",
      "start_time\n",
      "end_time\n",
      "waveform_tetrodes\n",
      "on_times\n",
      "off_times\n",
      "key\n",
      "cell_type\n",
      "mean_amplitude\n",
      "spike_amplitude\n"
     ]
    }
   ],
   "source": [
    "for k in n[0].__dict__.keys():\n",
    "    print(k)"
   ]
  },
  {
   "cell_type": "code",
   "execution_count": 14,
   "metadata": {},
   "outputs": [
    {
     "data": {
      "text/plain": [
       "[<matplotlib.collections.EventCollection at 0x27d64eb7cc8>]"
      ]
     },
     "execution_count": 14,
     "metadata": {},
     "output_type": "execute_result"
    },
    {
     "data": {
      "image/png": "[encoded data removed]",
      "text/plain": [
       "<Figure size 432x288 with 1 Axes>"
      ]
     },
     "metadata": {
      "needs_background": "light"
     },
     "output_type": "display_data"
    }
   ],
   "source": [
    "spikes = [n[1].spike_time,n[2].spike_time]\n",
    "plt.eventplot(n[1].spike_time[:100])\n",
    "plt.eventplot(n[2].spike_time[:100],lineoffsets=3)\n",
    "plt.eventplot(n[3].spike_time[:100],lineoffsets=5)\n",
    "plt.eventplot(n[4].spike_time[:100],lineoffsets=7)\n",
    "# for i in range(100):\n",
    "#     plt.eventplot(n[i].spike_time[:100],lineoffsets=i)"
   ]
  },
  {
   "cell_type": "code",
   "execution_count": 15,
   "metadata": {},
   "outputs": [],
   "source": [
    "from scipy  import sparse\n",
    "from scipy  import signal\n",
    "\n",
    "from scipy.sparse import csr_matrix"
   ]
  },
  {
   "cell_type": "code",
   "execution_count": 16,
   "metadata": {},
   "outputs": [],
   "source": [
    "spike_list = []\n",
    "for i in range(len(n)):\n",
    "    spike_list.append(n[i].spike_time)"
   ]
  },
  {
   "cell_type": "raw",
   "metadata": {},
   "source": [
    "def load_spike_times(spike_times,fs=1,window_size=10000000,max_neurons=10):\n",
    "    '''Take in list of list of spike times\n",
    "    spike_times[0] -> list of spike times for neuron 0\n",
    "    spike_times[0][10] -> neuron zero at timestep 10\n",
    "    \n",
    "    outputs dense array of size (neurons, timesteps)\n",
    "    '''\n",
    "        \n",
    "    spike_times = copy.deepcopy(spike_times)\n",
    "    \n",
    "    t_max = 0\n",
    "    for neuron in spike_times:\n",
    "        cur_t_max = max(neuron)\n",
    "        if cur_t_max > t_max:\n",
    "            t_max = cur_t_max\n",
    "            \n",
    "            \n",
    "    t_max = np.min([t_max+1,window_size])\n",
    "    #Create\n",
    "    neuron_num = min(len(spike_times),max_neurons)\n",
    "    spike_dense = np.zeros((neuron_num,t_max))\n",
    "\n",
    "\n",
    "    for neuron_index, waveform in enumerate(spike_times):\n",
    "        if neuron_index >= max_neurons:\n",
    "            break\n",
    "        for timestep in waveform:\n",
    "            if timestep >= t_max:\n",
    "                break\n",
    "            spike_dense[neuron_index,timestep] = 1\n",
    "\n",
    "    return spike_dense\n",
    "    \n",
    "# spike_dense = load_spike_times(spike_list)\n",
    "# neu.spikes = spike_dense\n",
    "# neu.neurons = spike_dense.shape[0]\n",
    "# n = None\n"
   ]
  },
  {
   "cell_type": "code",
   "execution_count": null,
   "metadata": {
    "scrolled": true
   },
   "outputs": [],
   "source": []
  },
  {
   "cell_type": "code",
   "execution_count": 17,
   "metadata": {},
   "outputs": [
    {
     "name": "stdout",
     "output_type": "stream",
     "text": [
      "Help on module braingeneers.neuron in braingeneers:\n",
      "\n",
      "NAME\n",
      "    braingeneers.neuron\n",
      "\n",
      "CLASSES\n",
      "    builtins.object\n",
      "        Neuron\n",
      "    \n",
      "    class Neuron(builtins.object)\n",
      "     |  Neuron(uuid, spike_sorted=True)\n",
      "     |  \n",
      "     |  Methods defined here:\n",
      "     |  \n",
      "     |  __init__(self, uuid, spike_sorted=True)\n",
      "     |      Initialize self.  See help(type(self)) for accurate signature.\n",
      "     |  \n",
      "     |  bin_correlation(self, bins)\n",
      "     |  \n",
      "     |  bin_correlation_window(self, bins)\n",
      "     |  \n",
      "     |  load_map(self, map_arr=None)\n",
      "     |  \n",
      "     |  load_spike_times(self, spike_times, fs=1, window_size=10000000, max_neurons=10)\n",
      "     |      Take in list of list of spike times\n",
      "     |      spike_times[0] -> list of spike times for neuron 0\n",
      "     |      spike_times[0][10] -> neuron zero at timestep 10\n",
      "     |      \n",
      "     |      outputs dense array of size (neurons, timesteps)\n",
      "     |  \n",
      "     |  load_spikes_test(self, neurons=10, length=1000, fs=1000)\n",
      "     |  \n",
      "     |  plot_correlation(self, lag_time=0)\n",
      "     |  \n",
      "     |  plot_correlation_bin(self, bin=0)\n",
      "     |  \n",
      "     |  plot_spikes(self)\n",
      "     |  \n",
      "     |  spike_correlation(self, steps)\n",
      "     |  \n",
      "     |  window_correlation(self, spikes, steps)\n",
      "     |  \n",
      "     |  ----------------------------------------------------------------------\n",
      "     |  Data descriptors defined here:\n",
      "     |  \n",
      "     |  __dict__\n",
      "     |      dictionary for instance variables (if defined)\n",
      "     |  \n",
      "     |  __weakref__\n",
      "     |      list of weak references to the object (if defined)\n",
      "\n",
      "FILE\n",
      "    c:\\users\\ash\\anaconda3\\envs\\bgr\\lib\\site-packages\\braingeneers\\neuron.py\n",
      "\n",
      "\n"
     ]
    }
   ],
   "source": [
    "from braingeneers import neuron\n",
    "help(neuron)\n"
   ]
  },
  {
   "cell_type": "code",
   "execution_count": 18,
   "metadata": {},
   "outputs": [],
   "source": [
    "n = neuron.Neuron('test')"
   ]
  },
  {
   "cell_type": "code",
   "execution_count": 19,
   "metadata": {},
   "outputs": [
    {
     "data": {
      "text/plain": [
       "array([[0., 0., 0., ..., 0., 0., 0.],\n",
       "       [0., 0., 0., ..., 0., 0., 0.],\n",
       "       [0., 0., 0., ..., 0., 0., 0.],\n",
       "       ...,\n",
       "       [0., 0., 0., ..., 0., 0., 0.],\n",
       "       [0., 0., 0., ..., 0., 0., 0.],\n",
       "       [0., 0., 0., ..., 0., 0., 0.]])"
      ]
     },
     "execution_count": 19,
     "metadata": {},
     "output_type": "execute_result"
    }
   ],
   "source": [
    "n.load_spike_times(spike_list)"
   ]
  },
  {
   "cell_type": "code",
   "execution_count": 20,
   "metadata": {},
   "outputs": [],
   "source": [
    "n.spikes = n.load_spike_times(spike_list)\n",
    "# n.plot_spikes()\n",
    "\n",
    "\n"
   ]
  },
  {
   "cell_type": "code",
   "execution_count": 21,
   "metadata": {},
   "outputs": [],
   "source": [
    "from scipy.ndimage import gaussian_filter1d"
   ]
  },
  {
   "cell_type": "code",
   "execution_count": 22,
   "metadata": {},
   "outputs": [],
   "source": [
    "a = n.load_spike_times(spike_list)"
   ]
  },
  {
   "cell_type": "code",
   "execution_count": 23,
   "metadata": {},
   "outputs": [
    {
     "data": {
      "text/plain": [
       "(10, 10000000)"
      ]
     },
     "execution_count": 23,
     "metadata": {},
     "output_type": "execute_result"
    }
   ],
   "source": [
    "a.shape"
   ]
  },
  {
   "cell_type": "code",
   "execution_count": 24,
   "metadata": {},
   "outputs": [],
   "source": [
    "b = gaussian_filter1d(a,2,1)\n",
    "\n",
    "n.spikes = b"
   ]
  },
  {
   "cell_type": "code",
   "execution_count": 25,
   "metadata": {},
   "outputs": [
    {
     "data": {
      "text/plain": [
       "[<matplotlib.lines.Line2D at 0x27d65149f08>,\n",
       " <matplotlib.lines.Line2D at 0x27d94c81648>,\n",
       " <matplotlib.lines.Line2D at 0x27d94c817c8>,\n",
       " <matplotlib.lines.Line2D at 0x27d94c81988>,\n",
       " <matplotlib.lines.Line2D at 0x27d94c81b88>,\n",
       " <matplotlib.lines.Line2D at 0x27d94c81d88>,\n",
       " <matplotlib.lines.Line2D at 0x27d94c81f88>,\n",
       " <matplotlib.lines.Line2D at 0x27d94c83208>,\n",
       " <matplotlib.lines.Line2D at 0x27d94c81b48>,\n",
       " <matplotlib.lines.Line2D at 0x27d94c81d48>]"
      ]
     },
     "execution_count": 25,
     "metadata": {},
     "output_type": "execute_result"
    },
    {
     "data": {
      "image/png": "[encoded data removed]",
      "text/plain": [
       "<Figure size 432x288 with 1 Axes>"
      ]
     },
     "metadata": {
      "needs_background": "light"
     },
     "output_type": "display_data"
    }
   ],
   "source": [
    "plt.plot(b[:,20000:70000].T)"
   ]
  },
  {
   "cell_type": "code",
   "execution_count": 29,
   "metadata": {},
   "outputs": [
    {
     "name": "stdout",
     "output_type": "stream",
     "text": [
      "Array takes: 762.9395599365234 MB\n"
     ]
    }
   ],
   "source": [
    "print('Array takes:',sys.getsizeof(b)/1024/1024,'MB')\n",
    "\n",
    "n.neurons = n.spikes.shape[0]"
   ]
  },
  {
   "cell_type": "code",
   "execution_count": 30,
   "metadata": {},
   "outputs": [],
   "source": [
    "corr_steps = 100"
   ]
  },
  {
   "cell_type": "code",
   "execution_count": 31,
   "metadata": {},
   "outputs": [],
   "source": [
    "\n",
    "n.window_correlation(b,corr_steps)"
   ]
  },
  {
   "cell_type": "code",
   "execution_count": 32,
   "metadata": {},
   "outputs": [],
   "source": [
    "\n",
    "n.corr_steps = corr_steps\n",
    "\n",
    "n.neurons = n.spikes.shape[0]\n",
    "n.bin_correlation_window(100)"
   ]
  },
  {
   "cell_type": "code",
   "execution_count": 34,
   "metadata": {},
   "outputs": [
    {
     "name": "stderr",
     "output_type": "stream",
     "text": [
      "C:\\Users\\Ash\\Anaconda3\\envs\\bgr\\lib\\site-packages\\ipykernel_launcher.py:1: RuntimeWarning: divide by zero encountered in true_divide\n",
      "  \"\"\"Entry point for launching an IPython kernel.\n",
      "C:\\Users\\Ash\\Anaconda3\\envs\\bgr\\lib\\site-packages\\ipykernel_launcher.py:1: RuntimeWarning: invalid value encountered in true_divide\n",
      "  \"\"\"Entry point for launching an IPython kernel.\n"
     ]
    },
    {
     "ename": "ValueError",
     "evalue": "autodetected range of [nan, nan] is not finite",
     "output_type": "error",
     "traceback": [
      "\u001b[1;31m---------------------------------------------------------------------------\u001b[0m",
      "\u001b[1;31mValueError\u001b[0m                                Traceback (most recent call last)",
      "\u001b[1;32m<ipython-input-34-c3ecebbdd917>\u001b[0m in \u001b[0;36m<module>\u001b[1;34m\u001b[0m\n\u001b[0;32m      1\u001b[0m \u001b[0mn\u001b[0m\u001b[1;33m.\u001b[0m\u001b[0mcorr\u001b[0m \u001b[1;33m=\u001b[0m \u001b[0mn\u001b[0m\u001b[1;33m.\u001b[0m\u001b[0mcorr_w\u001b[0m\u001b[1;33m/\u001b[0m\u001b[0mn\u001b[0m\u001b[1;33m.\u001b[0m\u001b[0mcorr_w\u001b[0m\u001b[1;33m.\u001b[0m\u001b[0msum\u001b[0m\u001b[1;33m(\u001b[0m\u001b[0maxis\u001b[0m\u001b[1;33m=\u001b[0m\u001b[1;36m0\u001b[0m\u001b[1;33m)\u001b[0m\u001b[1;33m[\u001b[0m\u001b[1;33m:\u001b[0m\u001b[1;33m,\u001b[0m\u001b[0mnp\u001b[0m\u001b[1;33m.\u001b[0m\u001b[0mnewaxis\u001b[0m\u001b[1;33m]\u001b[0m\u001b[1;33m\u001b[0m\u001b[1;33m\u001b[0m\u001b[0m\n\u001b[1;32m----> 2\u001b[1;33m \u001b[0mn\u001b[0m\u001b[1;33m.\u001b[0m\u001b[0mbin_correlation\u001b[0m\u001b[1;33m(\u001b[0m\u001b[1;36m100\u001b[0m\u001b[1;33m)\u001b[0m\u001b[1;33m\u001b[0m\u001b[1;33m\u001b[0m\u001b[0m\n\u001b[0m",
      "\u001b[1;32m~\\Anaconda3\\envs\\bgr\\lib\\site-packages\\braingeneers\\neuron.py\u001b[0m in \u001b[0;36mbin_correlation\u001b[1;34m(self, bins)\u001b[0m\n\u001b[0;32m    191\u001b[0m         \u001b[1;32mfor\u001b[0m \u001b[0mi\u001b[0m \u001b[1;32min\u001b[0m \u001b[0mrange\u001b[0m\u001b[1;33m(\u001b[0m\u001b[0mself\u001b[0m\u001b[1;33m.\u001b[0m\u001b[0mneurons\u001b[0m\u001b[1;33m)\u001b[0m\u001b[1;33m:\u001b[0m\u001b[1;33m\u001b[0m\u001b[1;33m\u001b[0m\u001b[0m\n\u001b[0;32m    192\u001b[0m             \u001b[1;32mfor\u001b[0m \u001b[0mj\u001b[0m \u001b[1;32min\u001b[0m \u001b[0mrange\u001b[0m\u001b[1;33m(\u001b[0m\u001b[0mself\u001b[0m\u001b[1;33m.\u001b[0m\u001b[0mneurons\u001b[0m\u001b[1;33m)\u001b[0m\u001b[1;33m:\u001b[0m\u001b[1;33m\u001b[0m\u001b[1;33m\u001b[0m\u001b[0m\n\u001b[1;32m--> 193\u001b[1;33m                 \u001b[0mself\u001b[0m\u001b[1;33m.\u001b[0m\u001b[0mcorr_bin\u001b[0m\u001b[1;33m[\u001b[0m\u001b[0mi\u001b[0m\u001b[1;33m,\u001b[0m\u001b[0mj\u001b[0m\u001b[1;33m]\u001b[0m\u001b[1;33m,\u001b[0m\u001b[0m_\u001b[0m \u001b[1;33m=\u001b[0m \u001b[0mnp\u001b[0m\u001b[1;33m.\u001b[0m\u001b[0mhistogram\u001b[0m\u001b[1;33m(\u001b[0m\u001b[0mself\u001b[0m\u001b[1;33m.\u001b[0m\u001b[0mcorr\u001b[0m\u001b[1;33m[\u001b[0m\u001b[0mi\u001b[0m\u001b[1;33m,\u001b[0m\u001b[0mj\u001b[0m\u001b[1;33m]\u001b[0m\u001b[1;33m,\u001b[0m \u001b[0mbins\u001b[0m \u001b[1;33m=\u001b[0m \u001b[0mbins\u001b[0m\u001b[1;33m,\u001b[0m\u001b[0mweights\u001b[0m\u001b[1;33m=\u001b[0m\u001b[0mself\u001b[0m\u001b[1;33m.\u001b[0m\u001b[0mcorr\u001b[0m\u001b[1;33m[\u001b[0m\u001b[0mi\u001b[0m\u001b[1;33m,\u001b[0m\u001b[0mj\u001b[0m\u001b[1;33m]\u001b[0m\u001b[1;33m)\u001b[0m\u001b[1;33m\u001b[0m\u001b[1;33m\u001b[0m\u001b[0m\n\u001b[0m\u001b[0;32m    194\u001b[0m \u001b[1;33m\u001b[0m\u001b[0m\n\u001b[0;32m    195\u001b[0m \u001b[1;33m\u001b[0m\u001b[0m\n",
      "\u001b[1;32m<__array_function__ internals>\u001b[0m in \u001b[0;36mhistogram\u001b[1;34m(*args, **kwargs)\u001b[0m\n",
      "\u001b[1;32m~\\Anaconda3\\envs\\bgr\\lib\\site-packages\\numpy\\lib\\histograms.py\u001b[0m in \u001b[0;36mhistogram\u001b[1;34m(a, bins, range, normed, weights, density)\u001b[0m\n\u001b[0;32m    790\u001b[0m     \u001b[0ma\u001b[0m\u001b[1;33m,\u001b[0m \u001b[0mweights\u001b[0m \u001b[1;33m=\u001b[0m \u001b[0m_ravel_and_check_weights\u001b[0m\u001b[1;33m(\u001b[0m\u001b[0ma\u001b[0m\u001b[1;33m,\u001b[0m \u001b[0mweights\u001b[0m\u001b[1;33m)\u001b[0m\u001b[1;33m\u001b[0m\u001b[1;33m\u001b[0m\u001b[0m\n\u001b[0;32m    791\u001b[0m \u001b[1;33m\u001b[0m\u001b[0m\n\u001b[1;32m--> 792\u001b[1;33m     \u001b[0mbin_edges\u001b[0m\u001b[1;33m,\u001b[0m \u001b[0muniform_bins\u001b[0m \u001b[1;33m=\u001b[0m \u001b[0m_get_bin_edges\u001b[0m\u001b[1;33m(\u001b[0m\u001b[0ma\u001b[0m\u001b[1;33m,\u001b[0m \u001b[0mbins\u001b[0m\u001b[1;33m,\u001b[0m \u001b[0mrange\u001b[0m\u001b[1;33m,\u001b[0m \u001b[0mweights\u001b[0m\u001b[1;33m)\u001b[0m\u001b[1;33m\u001b[0m\u001b[1;33m\u001b[0m\u001b[0m\n\u001b[0m\u001b[0;32m    793\u001b[0m \u001b[1;33m\u001b[0m\u001b[0m\n\u001b[0;32m    794\u001b[0m     \u001b[1;31m# Histogram is an integer or a float array depending on the weights.\u001b[0m\u001b[1;33m\u001b[0m\u001b[1;33m\u001b[0m\u001b[1;33m\u001b[0m\u001b[0m\n",
      "\u001b[1;32m~\\Anaconda3\\envs\\bgr\\lib\\site-packages\\numpy\\lib\\histograms.py\u001b[0m in \u001b[0;36m_get_bin_edges\u001b[1;34m(a, bins, range, weights)\u001b[0m\n\u001b[0;32m    424\u001b[0m             \u001b[1;32mraise\u001b[0m \u001b[0mValueError\u001b[0m\u001b[1;33m(\u001b[0m\u001b[1;34m'`bins` must be positive, when an integer'\u001b[0m\u001b[1;33m)\u001b[0m\u001b[1;33m\u001b[0m\u001b[1;33m\u001b[0m\u001b[0m\n\u001b[0;32m    425\u001b[0m \u001b[1;33m\u001b[0m\u001b[0m\n\u001b[1;32m--> 426\u001b[1;33m         \u001b[0mfirst_edge\u001b[0m\u001b[1;33m,\u001b[0m \u001b[0mlast_edge\u001b[0m \u001b[1;33m=\u001b[0m \u001b[0m_get_outer_edges\u001b[0m\u001b[1;33m(\u001b[0m\u001b[0ma\u001b[0m\u001b[1;33m,\u001b[0m \u001b[0mrange\u001b[0m\u001b[1;33m)\u001b[0m\u001b[1;33m\u001b[0m\u001b[1;33m\u001b[0m\u001b[0m\n\u001b[0m\u001b[0;32m    427\u001b[0m \u001b[1;33m\u001b[0m\u001b[0m\n\u001b[0;32m    428\u001b[0m     \u001b[1;32melif\u001b[0m \u001b[0mnp\u001b[0m\u001b[1;33m.\u001b[0m\u001b[0mndim\u001b[0m\u001b[1;33m(\u001b[0m\u001b[0mbins\u001b[0m\u001b[1;33m)\u001b[0m \u001b[1;33m==\u001b[0m \u001b[1;36m1\u001b[0m\u001b[1;33m:\u001b[0m\u001b[1;33m\u001b[0m\u001b[1;33m\u001b[0m\u001b[0m\n",
      "\u001b[1;32m~\\Anaconda3\\envs\\bgr\\lib\\site-packages\\numpy\\lib\\histograms.py\u001b[0m in \u001b[0;36m_get_outer_edges\u001b[1;34m(a, range)\u001b[0m\n\u001b[0;32m    322\u001b[0m         \u001b[1;32mif\u001b[0m \u001b[1;32mnot\u001b[0m \u001b[1;33m(\u001b[0m\u001b[0mnp\u001b[0m\u001b[1;33m.\u001b[0m\u001b[0misfinite\u001b[0m\u001b[1;33m(\u001b[0m\u001b[0mfirst_edge\u001b[0m\u001b[1;33m)\u001b[0m \u001b[1;32mand\u001b[0m \u001b[0mnp\u001b[0m\u001b[1;33m.\u001b[0m\u001b[0misfinite\u001b[0m\u001b[1;33m(\u001b[0m\u001b[0mlast_edge\u001b[0m\u001b[1;33m)\u001b[0m\u001b[1;33m)\u001b[0m\u001b[1;33m:\u001b[0m\u001b[1;33m\u001b[0m\u001b[1;33m\u001b[0m\u001b[0m\n\u001b[0;32m    323\u001b[0m             raise ValueError(\n\u001b[1;32m--> 324\u001b[1;33m                 \"autodetected range of [{}, {}] is not finite\".format(first_edge, last_edge))\n\u001b[0m\u001b[0;32m    325\u001b[0m \u001b[1;33m\u001b[0m\u001b[0m\n\u001b[0;32m    326\u001b[0m     \u001b[1;31m# expand empty range to avoid divide by zero\u001b[0m\u001b[1;33m\u001b[0m\u001b[1;33m\u001b[0m\u001b[1;33m\u001b[0m\u001b[0m\n",
      "\u001b[1;31mValueError\u001b[0m: autodetected range of [nan, nan] is not finite"
     ]
    }
   ],
   "source": [
    "n.corr = n.corr_w/n.corr_w.sum(axis=1)[:,np.newaxis]\n",
    "n.bin_correlation(100)"
   ]
  },
  {
   "cell_type": "code",
   "execution_count": null,
   "metadata": {},
   "outputs": [],
   "source": [
    "n.plot_correlation()"
   ]
  },
  {
   "cell_type": "code",
   "execution_count": 35,
   "metadata": {},
   "outputs": [
    {
     "data": {
      "text/plain": [
       "(10, 10000000)"
      ]
     },
     "execution_count": 35,
     "metadata": {},
     "output_type": "execute_result"
    }
   ],
   "source": [
    "b.shape"
   ]
  },
  {
   "cell_type": "code",
   "execution_count": 36,
   "metadata": {},
   "outputs": [],
   "source": [
    "import tensortools as tt"
   ]
  },
  {
   "cell_type": "code",
   "execution_count": 37,
   "metadata": {},
   "outputs": [
    {
     "name": "stderr",
     "output_type": "stream",
     "text": [
      "\r",
      "Fitting rank-1 models:   0%|                                | 0/4 [00:00<?, ?it/s]"
     ]
    },
    {
     "name": "stdout",
     "output_type": "stream",
     "text": [
      "(10, 10000000, 1)\n",
      "(10, 10000000, 2)\n"
     ]
    },
    {
     "name": "stderr",
     "output_type": "stream",
     "text": [
      "C:\\Users\\Ash\\Anaconda3\\envs\\bgr\\lib\\site-packages\\tensortools\\optimize\\ncp_hals.py:185: NumbaPerformanceWarning: \u001b[1m\u001b[1m'@' is faster on contiguous arrays, called on (array(float64, 2d, C), array(float64, 1d, A))\u001b[0m\u001b[0m\n",
      "  Cp = factors[:, idx] @ grams[idx][:, p]\n",
      "C:\\Users\\Ash\\Anaconda3\\envs\\bgr\\lib\\site-packages\\numba\\core\\typing\\npydecl.py:930: NumbaPerformanceWarning: \u001b[1m'@' is faster on contiguous arrays, called on (array(float64, 2d, C), array(float64, 1d, A))\u001b[0m\n",
      "  warnings.warn(NumbaPerformanceWarning(msg))\n",
      "                                                                                  "
     ]
    },
    {
     "name": "stdout",
     "output_type": "stream",
     "text": [
      "Rank-1 models:  min obj, 0.90;  max obj, 0.90;  time to fit, 178.4s\n"
     ]
    },
    {
     "name": "stderr",
     "output_type": "stream",
     "text": [
      "                                                                                  "
     ]
    },
    {
     "name": "stdout",
     "output_type": "stream",
     "text": [
      "Rank-2 models:  min obj, 0.81;  max obj, 0.81;  time to fit, 736.8s\n"
     ]
    },
    {
     "name": "stderr",
     "output_type": "stream",
     "text": [
      "                                                                                  "
     ]
    },
    {
     "name": "stdout",
     "output_type": "stream",
     "text": [
      "Rank-3 models:  min obj, 0.70;  max obj, 0.71;  time to fit, 711.3s\n"
     ]
    },
    {
     "name": "stderr",
     "output_type": "stream",
     "text": [
      "                                                                                  "
     ]
    },
    {
     "name": "stdout",
     "output_type": "stream",
     "text": [
      "Rank-4 models:  min obj, 0.59;  max obj, 0.70;  time to fit, 1020.9s\n"
     ]
    },
    {
     "name": "stderr",
     "output_type": "stream",
     "text": [
      "                                                                                  "
     ]
    },
    {
     "name": "stdout",
     "output_type": "stream",
     "text": [
      "Rank-5 models:  min obj, 0.59;  max obj, 0.64;  time to fit, 951.7s\n"
     ]
    },
    {
     "name": "stderr",
     "output_type": "stream",
     "text": [
      "                                                                                  "
     ]
    },
    {
     "name": "stdout",
     "output_type": "stream",
     "text": [
      "Rank-6 models:  min obj, 0.43;  max obj, 0.52;  time to fit, 699.6s\n"
     ]
    },
    {
     "name": "stderr",
     "output_type": "stream",
     "text": [
      "                                                                                  "
     ]
    },
    {
     "name": "stdout",
     "output_type": "stream",
     "text": [
      "Rank-7 models:  min obj, 0.36;  max obj, 0.52;  time to fit, 1927.6s\n"
     ]
    },
    {
     "name": "stderr",
     "output_type": "stream",
     "text": [
      "                                                                                  "
     ]
    },
    {
     "name": "stdout",
     "output_type": "stream",
     "text": [
      "Rank-8 models:  min obj, 0.33;  max obj, 0.50;  time to fit, 1341.4s\n"
     ]
    },
    {
     "name": "stderr",
     "output_type": "stream",
     "text": [
      "\r"
     ]
    },
    {
     "data": {
      "image/png": "[encoded data removed]",
      "text/plain": [
       "<Figure size 432x288 with 2 Axes>"
      ]
     },
     "metadata": {
      "needs_background": "light"
     },
     "output_type": "display_data"
    },
    {
     "data": {
      "image/png": "[encoded data removed]",
      "text/plain": [
       "<Figure size 576x144 with 6 Axes>"
      ]
     },
     "metadata": {
      "needs_background": "light"
     },
     "output_type": "display_data"
    }
   ],
   "source": [
    "data = np.expand_dims(b,-1)# ... specify a numpy array holding the tensor you wish to fit\n",
    "print(data.shape)\n",
    "data = np.tile(data,2)\n",
    "print(data.shape)\n",
    "\n",
    "# Fit an ensemble of models, 4 random replicates / optimization runs per model rank\n",
    "ensemble = tt.Ensemble(fit_method=\"ncp_hals\")\n",
    "ensemble.fit(data, ranks=range(1, 9), replicates=4)\n",
    "\n",
    "fig, axes = plt.subplots(1, 2)\n",
    "tt.plot_objective(ensemble, ax=axes[0])   # plot reconstruction error as a function of num components.\n",
    "tt.plot_similarity(ensemble, ax=axes[1])  # plot model similarity as a function of num components.\n",
    "fig.tight_layout()\n",
    "\n"
   ]
  },
  {
   "cell_type": "code",
   "execution_count": 38,
   "metadata": {},
   "outputs": [
    {
     "data": {
      "image/png": "[encoded data removed]",
      "text/plain": [
       "<Figure size 576x288 with 12 Axes>"
      ]
     },
     "metadata": {
      "needs_background": "light"
     },
     "output_type": "display_data"
    }
   ],
   "source": [
    "# Plot the low-d factors for an example model, e.g. rank-2, first optimization run / replicate.\n",
    "num_components = 4\n",
    "replicate = 0\n",
    "tt.plot_factors(ensemble.factors(num_components)[replicate])  # plot the low-d factors\n",
    "\n",
    "plt.show()"
   ]
  },
  {
   "cell_type": "code",
   "execution_count": null,
   "metadata": {},
   "outputs": [],
   "source": []
  }
 ],
 "metadata": {
  "kernelspec": {
   "display_name": "Python 3",
   "language": "python",
   "name": "python3"
  },
  "language_info": {
   "codemirror_mode": {
    "name": "ipython",
    "version": 3
   },
   "file_extension": ".py",
   "mimetype": "text/x-python",
   "name": "python",
   "nbconvert_exporter": "python",
   "pygments_lexer": "ipython3",
   "version": "3.7.7"
  }
 },
 "nbformat": 4,
 "nbformat_minor": 4
}
