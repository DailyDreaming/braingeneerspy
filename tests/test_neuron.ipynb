{
 "cells": [
  {
   "cell_type": "code",
   "execution_count": 2,
   "metadata": {},
   "outputs": [],
   "source": [
    "import numpy as np\n",
    "import matplotlib\n",
    "from matplotlib import pyplot as plt\n",
    "from matplotlib import cm\n",
    "import neuraltoolkit as ntk\n",
    "import pandas as pd\n",
    "import sklearn\n",
    "from sklearn.preprocessing import StandardScaler\n",
    "from sklearn.decomposition import PCA\n",
    "from sklearn.datasets import load_digits\n",
    "from sklearn.cluster import KMeans\n",
    "import copy\n",
    "#import mgktools as mgk\n",
    "import musclebeachtools as mbt\n",
    "#Need to add musclebeachtools to path\n",
    "\n",
    "import spikeinterface.extractors as se\n",
    "import spikeinterface.toolkit as st\n",
    "import spikeinterface.sorters as ss\n",
    "import spikeinterface.comparison as sc\n",
    "import spikeinterface.widgets as sw\n",
    "import mountainlab_pytools as mtlp\n",
    "\n",
    "import tkinter as tk\n",
    "from tkinter import filedialog\n",
    "\n",
    "import numpy as np\n",
    "import matplotlib.pyplot as plt\n",
    "#%matplotlib\n",
    "#import matplotlib.backends.backend_pdf as mpdf\n",
    "import seaborn as sns\n",
    "import json\n",
    "import time\n",
    "import os\n",
    "import os.path as op\n",
    "import glob\n",
    "import re\n",
    "import scipy\n",
    "import sys\n",
    "import boto3\n",
    "\n",
    "\n",
    "%matplotlib inline\n",
    "plt.rcParams.update({\"text.usetex\":False})"
   ]
  },
  {
   "cell_type": "markdown",
   "metadata": {},
   "source": [
    "# This needs to be adjusted/generalized"
   ]
  },
  {
   "cell_type": "code",
   "execution_count": 3,
   "metadata": {},
   "outputs": [],
   "source": [
    "sys.path.append('C:\\\\Users\\\\Ash\\\\github\\\\musclebeachtools_hlab')"
   ]
  },
  {
   "cell_type": "code",
   "execution_count": null,
   "metadata": {},
   "outputs": [],
   "source": []
  },
  {
   "cell_type": "code",
   "execution_count": 4,
   "metadata": {},
   "outputs": [],
   "source": [
    "def spiketimes_to_spikewords(spiketimes, startime, stoptime, binsize, binarize): \n",
    "    ### ARGUMENTS\n",
    "    #spiketimes - list of spiketime arrays where each element of list is for a different neuron (e.g. the output of getspikes())\n",
    "    #startime,stoptime - bounds of time to convert to spikewords (in seconds)\n",
    "    #binsize - size of bin in milliseconds\n",
    "    #binarize - '1' to convert to 0's and 1's, '0' to keep as histogram counts\n",
    "    ### RETURNS\n",
    "    #array of spikewords with each column as a cell and each rows as time in bins \n",
    "    \n",
    "    #get sec_time to bin conversion factor\n",
    "    #startime in bins\n",
    "    startime_ms = startime * 1000\n",
    "    stoptime_ms = stoptime * 1000\n",
    "    binrange = np.arange(start = startime_ms, stop = stoptime_ms+1, step = binsize)\n",
    "    n_cells = len(spiketimes)\n",
    "\n",
    "    spikewords_array = np.zeros([n_cells, binrange.shape[0]-1])\n",
    "    for i in range(n_cells):\n",
    "        spiketimes_cell = spiketimes[i] * 1000 #spiketimes in seconds * 1000 msec/sec\n",
    "        counts, bins = np.histogram(spiketimes_cell, bins = binrange)\n",
    "        if binarize == 1:\n",
    "            #binarize the counts\n",
    "            counts[counts>0] = 1\n",
    "        # print(counts.astype(np.int))\n",
    "        spikewords_array[i,:] = counts\n",
    "    return(spikewords_array.astype(np.int8).T)"
   ]
  },
  {
   "cell_type": "markdown",
   "metadata": {},
   "source": [
    "# List/select from s3, use boto"
   ]
  },
  {
   "cell_type": "code",
   "execution_count": 6,
   "metadata": {},
   "outputs": [
    {
     "name": "stdout",
     "output_type": "stream",
     "text": [
      "2020-08-19 21:41:19    2060999 rasters.zip\n",
      "2020-08-20 00:31:51   84538420 spikeintf_well_A1_chgroup_1.zip\n",
      "2020-08-20 00:31:07   65328019 spikeintf_well_A1_chgroup_2.zip\n",
      "2020-08-20 00:19:03   66966749 spikeintf_well_A1_chgroup_3.zip\n",
      "2020-08-20 00:39:14   92616758 spikeintf_well_A2_chgroup_1.zip\n",
      "2020-08-20 00:17:49   95908691 spikeintf_well_A2_chgroup_2.zip\n",
      "2020-08-20 00:19:29   70411390 spikeintf_well_A2_chgroup_3.zip\n",
      "2020-08-20 00:31:50   99927074 spikeintf_well_A2_chgroup_4.zip\n",
      "2020-08-20 00:18:44  106986646 spikeintf_well_A2_chgroup_5.zip\n",
      "2020-08-20 00:21:54   80408305 spikeintf_well_A2_chgroup_6.zip\n",
      "2020-08-20 00:21:12   36064377 spikeintf_well_A3_chgroup_1.zip\n",
      "2020-08-20 00:23:42   80976232 spikeintf_well_B1_chgroup_1.zip\n",
      "2020-08-20 00:24:48  110808978 spikeintf_well_B1_chgroup_2.zip\n",
      "2020-08-20 00:26:42   92682115 spikeintf_well_B1_chgroup_3.zip\n",
      "2020-08-20 00:27:02   83125882 spikeintf_well_B1_chgroup_4.zip\n",
      "2020-08-20 00:30:13  118010892 spikeintf_well_B1_chgroup_5.zip\n",
      "2020-08-20 00:31:01   78098213 spikeintf_well_B1_chgroup_6.zip\n",
      "2020-08-20 00:29:37   78707412 spikeintf_well_B2_chgroup_1.zip\n",
      "2020-08-20 00:31:27  136864278 spikeintf_well_B2_chgroup_2.zip\n",
      "2020-08-20 00:39:39  165325175 spikeintf_well_B2_chgroup_3.zip\n",
      "2020-08-20 00:34:40  131205284 spikeintf_well_B2_chgroup_4.zip\n",
      "2020-08-20 00:38:52  105310133 spikeintf_well_B2_chgroup_5.zip\n",
      "2020-08-20 00:41:19   76893852 spikeintf_well_B2_chgroup_6.zip\n",
      "2020-08-20 00:43:47  133023138 spikeintf_well_B2_chgroup_7.zip\n",
      "2020-08-20 00:54:18  172704519 spikeintf_well_B2_chgroup_8.zip\n",
      "2020-08-20 00:40:55  110084315 spikeintf_well_B3_chgroup_1.zip\n",
      "2020-08-20 00:54:49   73033156 spikeintf_well_B3_chgroup_2.zip\n",
      "2020-08-20 00:57:48  136724198 spikeintf_well_B3_chgroup_3.zip\n",
      "2020-08-20 00:49:44   80763355 spikeintf_well_B3_chgroup_4.zip\n",
      "2020-08-20 00:48:56  109760175 spikeintf_well_B3_chgroup_5.zip\n"
     ]
    }
   ],
   "source": [
    "!aws --endpoint https://s3.nautilus.optiputer.net s3 ls s3://braingeneers/ephys/2020-07-06-e-MGK-76-2614-PreDrug/mgk_results/"
   ]
  },
  {
   "cell_type": "code",
   "execution_count": 31,
   "metadata": {},
   "outputs": [],
   "source": [
    "# import boto3\n",
    "\n",
    "# s3 = boto3.resource('s3')\n",
    "# bucket = s3.Bucket('https://braingeneers.s3.us-west-1.amazonaws.com')\n",
    "# for obj in bucket.objects.all():\n",
    "#     print(obj.key, obj.last_modified)"
   ]
  },
  {
   "cell_type": "code",
   "execution_count": 32,
   "metadata": {},
   "outputs": [],
   "source": [
    "\n",
    "# session = boto3.Session(profile_name='default',config=my_config)\n",
    "\n",
    "\n",
    "# s3 = session.resource('s3')\n",
    "# my_bucket = s3.Bucket('braingeneers/')\n",
    "\n",
    "# s3client = boto3.client('s3',config=my_config)\n",
    "\n",
    "# response = s3client.list_buckets()\n",
    "\n",
    "\n",
    "# print('Existing buckets:')\n",
    "# for bucket in response['Buckets']:\n",
    "#     print(f'  {bucket[\"Name\"]}')"
   ]
  },
  {
   "cell_type": "code",
   "execution_count": 33,
   "metadata": {},
   "outputs": [],
   "source": [
    "# s3.list_buckets()\n",
    "\n",
    "# for my_bucket_object in my_bucket.objects.all():\n",
    "#     print(my_bucket_object)"
   ]
  },
  {
   "cell_type": "code",
   "execution_count": 34,
   "metadata": {},
   "outputs": [],
   "source": [
    "# for key in s3client.list_objects(Bucket='bucket_name')['Contents']:\n",
    "#     print(key['Key'])"
   ]
  },
  {
   "cell_type": "markdown",
   "metadata": {},
   "source": [
    "# When downloaded locally: \n",
    "Load in data"
   ]
  },
  {
   "cell_type": "code",
   "execution_count": 7,
   "metadata": {},
   "outputs": [
    {
     "data": {
      "text/plain": [
       "s3.ServiceResource()"
      ]
     },
     "execution_count": 7,
     "metadata": {},
     "output_type": "execute_result"
    }
   ],
   "source": [
    "\n"
   ]
  },
  {
   "cell_type": "raw",
   "metadata": {},
   "source": [
    "!aws --endpoint https://s3.nautilus.optiputer.net s3 sync s3://braingeneers/ephys/2020-07-06-e-MGK-76-2614-PreDrug/mgk_results/ matt/."
   ]
  },
  {
   "cell_type": "markdown",
   "metadata": {},
   "source": [
    "# Change wd to results dir from download"
   ]
  },
  {
   "cell_type": "code",
   "execution_count": 39,
   "metadata": {},
   "outputs": [
    {
     "name": "stdout",
     "output_type": "stream",
     "text": [
      "C:\\Users\\Ash\\github\\braingeneerspy\\tests\n",
      "Changed to:  C:\\Users\\Ash\\Desktop\\matt\\root\\data\\2020-07-06-e-MGK-76-2614-PreDrug\\results\n"
     ]
    }
   ],
   "source": [
    "print(os.getcwd())\n",
    "os.chdir('../../../Desktop/matt/root/data/2020-07-06-e-MGK-76-2614-PreDrug/results')\n",
    "print('Changed to: ',os.getcwd())\n"
   ]
  },
  {
   "cell_type": "code",
   "execution_count": 40,
   "metadata": {},
   "outputs": [],
   "source": [
    "# I hate this, fix?\n",
    "sys.modules['musclebeachtools_hlab'] = sys.modules['musclebeachtools']\n",
    "sys.modules['musclebeachtools_hlab.musclebeachtools'] = sys.modules['musclebeachtools']"
   ]
  },
  {
   "cell_type": "markdown",
   "metadata": {},
   "source": [
    "# Load in data for well A1 channel"
   ]
  },
  {
   "cell_type": "code",
   "execution_count": 164,
   "metadata": {},
   "outputs": [
    {
     "name": "stderr",
     "output_type": "stream",
     "text": [
      "2020-11-02 22:46:56,156 - musclebeachtools_hlab.musclebeachtools.mbt_neurons - INFO - Updating spike_amplitude\n",
      "2020-11-02 22:46:56,160 - musclebeachtools_hlab.musclebeachtools.mbt_neurons - INFO - Updating spike_amplitude\n",
      "2020-11-02 22:46:56,163 - musclebeachtools_hlab.musclebeachtools.mbt_neurons - INFO - Updating spike_amplitude\n"
     ]
    }
   ],
   "source": [
    "well='A1ch'\n",
    "c=0\n",
    "n = None\n",
    "for f in sorted(glob.glob(well+'*')):\n",
    "    n_temp = np.load(f+'/spikeintf/outputs/neurons_group0.npy', allow_pickle=True)\n",
    "    n_amp = mbt.mbt_neurons.load_spike_amplitudes(n_temp, f+'/spikeintf/outputs/amplitudes0.npy')\n",
    "    \n",
    "    n_prb = open(glob.glob(f+'/spikeintf/inputs/*probefile.prb')[0])\n",
    "    lines = n_prb.readlines()\n",
    "    real_chans = []\n",
    "    s = lines[5]\n",
    "    n = s.split()\n",
    "    for chan in range(1,len(n)):\n",
    "        #print(n[chan])\n",
    "        result = re.search('c_(.*)\\'', n[chan])\n",
    "        real_chans.append(int(result.group(1)))\n",
    "        \n",
    "    for i in range(len(n_temp)):\n",
    "        chan = n_temp[i].peak_channel\n",
    "        #print(chan)\n",
    "        n_temp[i].peak_channel = real_chans[chan]\n",
    "    \n",
    "    n_prb.close()\n",
    "    \n",
    "    if c == 0:\n",
    "        nrn = n_temp\n",
    "    else:\n",
    "        nrn = np.append(nrn, n_temp)\n",
    "    \n",
    "    c = c+1\n",
    "    \n",
    "n = nrn"
   ]
  },
  {
   "cell_type": "code",
   "execution_count": 165,
   "metadata": {},
   "outputs": [
    {
     "data": {
      "text/plain": [
       "array(['Neuron(sp_cluster, sp_times, quality, meanwaveform,meanwaveformspline, peak_channel)',\n",
       "       'Neuron(sp_cluster, sp_times, quality, meanwaveform,meanwaveformspline, peak_channel)',\n",
       "       'Neuron(sp_cluster, sp_times, quality, meanwaveform,meanwaveformspline, peak_channel)',\n",
       "       'Neuron(sp_cluster, sp_times, quality, meanwaveform,meanwaveformspline, peak_channel)',\n",
       "       'Neuron(sp_cluster, sp_times, quality, meanwaveform,meanwaveformspline, peak_channel)',\n",
       "       'Neuron(sp_cluster, sp_times, quality, meanwaveform,meanwaveformspline, peak_channel)',\n",
       "       'Neuron(sp_cluster, sp_times, quality, meanwaveform,meanwaveformspline, peak_channel)',\n",
       "       'Neuron(sp_cluster, sp_times, quality, meanwaveform,meanwaveformspline, peak_channel)',\n",
       "       'Neuron(sp_cluster, sp_times, quality, meanwaveform,meanwaveformspline, peak_channel)',\n",
       "       'Neuron(sp_cluster, sp_times, quality, meanwaveform,meanwaveformspline, peak_channel)',\n",
       "       'Neuron(sp_cluster, sp_times, quality, meanwaveform,meanwaveformspline, peak_channel)',\n",
       "       'Neuron(sp_cluster, sp_times, quality, meanwaveform,meanwaveformspline, peak_channel)',\n",
       "       'Neuron(sp_cluster, sp_times, quality, meanwaveform,meanwaveformspline, peak_channel)',\n",
       "       'Neuron(sp_cluster, sp_times, quality, meanwaveform,meanwaveformspline, peak_channel)',\n",
       "       'Neuron(sp_cluster, sp_times, quality, meanwaveform,meanwaveformspline, peak_channel)',\n",
       "       'Neuron(sp_cluster, sp_times, quality, meanwaveform,meanwaveformspline, peak_channel)',\n",
       "       'Neuron(sp_cluster, sp_times, quality, meanwaveform,meanwaveformspline, peak_channel)',\n",
       "       'Neuron(sp_cluster, sp_times, quality, meanwaveform,meanwaveformspline, peak_channel)',\n",
       "       'Neuron(sp_cluster, sp_times, quality, meanwaveform,meanwaveformspline, peak_channel)',\n",
       "       'Neuron(sp_cluster, sp_times, quality, meanwaveform,meanwaveformspline, peak_channel)',\n",
       "       'Neuron(sp_cluster, sp_times, quality, meanwaveform,meanwaveformspline, peak_channel)',\n",
       "       'Neuron(sp_cluster, sp_times, quality, meanwaveform,meanwaveformspline, peak_channel)',\n",
       "       'Neuron(sp_cluster, sp_times, quality, meanwaveform,meanwaveformspline, peak_channel)',\n",
       "       'Neuron(sp_cluster, sp_times, quality, meanwaveform,meanwaveformspline, peak_channel)',\n",
       "       'Neuron(sp_cluster, sp_times, quality, meanwaveform,meanwaveformspline, peak_channel)',\n",
       "       'Neuron(sp_cluster, sp_times, quality, meanwaveform,meanwaveformspline, peak_channel)',\n",
       "       'Neuron(sp_cluster, sp_times, quality, meanwaveform,meanwaveformspline, peak_channel)',\n",
       "       'Neuron(sp_cluster, sp_times, quality, meanwaveform,meanwaveformspline, peak_channel)'],\n",
       "      dtype=object)"
      ]
     },
     "execution_count": 165,
     "metadata": {},
     "output_type": "execute_result"
    }
   ],
   "source": [
    "n"
   ]
  },
  {
   "cell_type": "code",
   "execution_count": 45,
   "metadata": {},
   "outputs": [
    {
     "name": "stdout",
     "output_type": "stream",
     "text": [
      "clust_idx\n",
      "spike_time\n",
      "quality\n",
      "waveform\n",
      "waveforms\n",
      "peak_channel\n",
      "fs\n",
      "start_time\n",
      "end_time\n",
      "waveform_tetrodes\n",
      "on_times\n",
      "off_times\n",
      "key\n",
      "cell_type\n",
      "mean_amplitude\n",
      "spike_amplitude\n"
     ]
    }
   ],
   "source": [
    "for k in n[0].__dict__.keys():\n",
    "    print(k)"
   ]
  },
  {
   "cell_type": "code",
   "execution_count": 166,
   "metadata": {},
   "outputs": [
    {
     "ename": "IndexError",
     "evalue": "index 28 is out of bounds for axis 0 with size 28",
     "output_type": "error",
     "traceback": [
      "\u001b[1;31m---------------------------------------------------------------------------\u001b[0m",
      "\u001b[1;31mIndexError\u001b[0m                                Traceback (most recent call last)",
      "\u001b[1;32m<ipython-input-166-de3885a1c83e>\u001b[0m in \u001b[0;36m<module>\u001b[1;34m\u001b[0m\n\u001b[0;32m      5\u001b[0m \u001b[0mplt\u001b[0m\u001b[1;33m.\u001b[0m\u001b[0meventplot\u001b[0m\u001b[1;33m(\u001b[0m\u001b[0mn\u001b[0m\u001b[1;33m[\u001b[0m\u001b[1;36m4\u001b[0m\u001b[1;33m]\u001b[0m\u001b[1;33m.\u001b[0m\u001b[0mspike_time\u001b[0m\u001b[1;33m[\u001b[0m\u001b[1;33m:\u001b[0m\u001b[1;36m100\u001b[0m\u001b[1;33m]\u001b[0m\u001b[1;33m,\u001b[0m\u001b[0mlineoffsets\u001b[0m\u001b[1;33m=\u001b[0m\u001b[1;36m7\u001b[0m\u001b[1;33m)\u001b[0m\u001b[1;33m\u001b[0m\u001b[1;33m\u001b[0m\u001b[0m\n\u001b[0;32m      6\u001b[0m \u001b[1;32mfor\u001b[0m \u001b[0mi\u001b[0m \u001b[1;32min\u001b[0m \u001b[0mrange\u001b[0m\u001b[1;33m(\u001b[0m\u001b[1;36m100\u001b[0m\u001b[1;33m)\u001b[0m\u001b[1;33m:\u001b[0m\u001b[1;33m\u001b[0m\u001b[1;33m\u001b[0m\u001b[0m\n\u001b[1;32m----> 7\u001b[1;33m     \u001b[0mplt\u001b[0m\u001b[1;33m.\u001b[0m\u001b[0meventplot\u001b[0m\u001b[1;33m(\u001b[0m\u001b[0mn\u001b[0m\u001b[1;33m[\u001b[0m\u001b[0mi\u001b[0m\u001b[1;33m]\u001b[0m\u001b[1;33m.\u001b[0m\u001b[0mspike_time\u001b[0m\u001b[1;33m[\u001b[0m\u001b[1;33m:\u001b[0m\u001b[1;36m100\u001b[0m\u001b[1;33m]\u001b[0m\u001b[1;33m,\u001b[0m\u001b[0mlineoffsets\u001b[0m\u001b[1;33m=\u001b[0m\u001b[0mi\u001b[0m\u001b[1;33m)\u001b[0m\u001b[1;33m\u001b[0m\u001b[1;33m\u001b[0m\u001b[0m\n\u001b[0m",
      "\u001b[1;31mIndexError\u001b[0m: index 28 is out of bounds for axis 0 with size 28"
     ]
    },
    {
     "data": {
      "image/png": "[encoded data removed]",
      "text/plain": [
       "<Figure size 432x288 with 1 Axes>"
      ]
     },
     "metadata": {
      "needs_background": "light"
     },
     "output_type": "display_data"
    }
   ],
   "source": [
    "spikes = [n[1].spike_time,n[2].spike_time]\n",
    "# plt.eventplot(n[1].spike_time[:100])\n",
    "# plt.eventplot(n[2].spike_time[:100],lineoffsets=3)\n",
    "# plt.eventplot(n[3].spike_time[:100],lineoffsets=5)\n",
    "plt.eventplot(n[4].spike_time[:100],lineoffsets=7)\n",
    "for i in range(100):\n",
    "    plt.eventplot(n[i].spike_time[:100],lineoffsets=i)"
   ]
  },
  {
   "cell_type": "code",
   "execution_count": 52,
   "metadata": {},
   "outputs": [],
   "source": [
    "from scipy  import sparse\n",
    "from scipy  import signal\n",
    "\n",
    "from scipy.sparse import csr_matrix"
   ]
  },
  {
   "cell_type": "code",
   "execution_count": 170,
   "metadata": {},
   "outputs": [],
   "source": [
    "spike_list = []\n",
    "for i in range(len(n)):\n",
    "    spike_list.append(n[i].spike_time)"
   ]
  },
  {
   "cell_type": "code",
   "execution_count": 226,
   "metadata": {},
   "outputs": [],
   "source": [
    "def load_spike_times(spike_times,fs=1,window_size=10000000,max_neurons=10):\n",
    "    '''Take in list of list of spike times\n",
    "    spike_times[0] -> list of spike times for neuron 0\n",
    "    spike_times[0][10] -> neuron zero at timestep 10\n",
    "    \n",
    "    outputs dense array of size (neurons, timesteps)\n",
    "    '''\n",
    "        \n",
    "    spike_times = copy.deepcopy(spike_times)\n",
    "    \n",
    "    t_max = 0\n",
    "    for neuron in spike_times:\n",
    "        cur_t_max = max(neuron)\n",
    "        if cur_t_max > t_max:\n",
    "            t_max = cur_t_max\n",
    "            \n",
    "            \n",
    "    t_max = np.min([t_max+1,window_size])\n",
    "    #Create\n",
    "    neuron_num = min(len(spike_times),max_neurons)\n",
    "    spike_dense = np.zeros((neuron_num,t_max))\n",
    "\n",
    "\n",
    "    for neuron_index, waveform in enumerate(spike_times):\n",
    "        if neuron_index >= max_neurons:\n",
    "            break\n",
    "        for timestep in waveform:\n",
    "            if timestep >= t_max:\n",
    "                break\n",
    "            spike_dense[neuron_index,timestep] = 1\n",
    "\n",
    "    return spike_dense\n"
   ]
  },
  {
   "cell_type": "code",
   "execution_count": 233,
   "metadata": {},
   "outputs": [
    {
     "ename": "MemoryError",
     "evalue": "Unable to allocate 763. MiB for an array with shape (10, 10000000) and data type float64",
     "output_type": "error",
     "traceback": [
      "\u001b[1;31m---------------------------------------------------------------------------\u001b[0m",
      "\u001b[1;31mMemoryError\u001b[0m                               Traceback (most recent call last)",
      "\u001b[1;32m<ipython-input-233-112b6a182086>\u001b[0m in \u001b[0;36m<module>\u001b[1;34m\u001b[0m\n\u001b[1;32m----> 1\u001b[1;33m \u001b[0mspike_dense\u001b[0m \u001b[1;33m=\u001b[0m \u001b[0mload_spike_times\u001b[0m\u001b[1;33m(\u001b[0m\u001b[0mspike_list\u001b[0m\u001b[1;33m)\u001b[0m\u001b[1;33m\u001b[0m\u001b[1;33m\u001b[0m\u001b[0m\n\u001b[0m\u001b[0;32m      2\u001b[0m \u001b[0mneu\u001b[0m\u001b[1;33m.\u001b[0m\u001b[0mspikes\u001b[0m \u001b[1;33m=\u001b[0m \u001b[0mspike_dense\u001b[0m\u001b[1;33m\u001b[0m\u001b[1;33m\u001b[0m\u001b[0m\n\u001b[0;32m      3\u001b[0m \u001b[0mneu\u001b[0m\u001b[1;33m.\u001b[0m\u001b[0mneurons\u001b[0m \u001b[1;33m=\u001b[0m \u001b[0mspike_dense\u001b[0m\u001b[1;33m.\u001b[0m\u001b[0mshape\u001b[0m\u001b[1;33m[\u001b[0m\u001b[1;36m0\u001b[0m\u001b[1;33m]\u001b[0m\u001b[1;33m\u001b[0m\u001b[1;33m\u001b[0m\u001b[0m\n\u001b[0;32m      4\u001b[0m \u001b[0mn\u001b[0m \u001b[1;33m=\u001b[0m \u001b[1;32mNone\u001b[0m\u001b[1;33m\u001b[0m\u001b[1;33m\u001b[0m\u001b[0m\n",
      "\u001b[1;32m<ipython-input-226-eb38a128d9b6>\u001b[0m in \u001b[0;36mload_spike_times\u001b[1;34m(spike_times, fs, window_size, max_neurons)\u001b[0m\n\u001b[0;32m     19\u001b[0m     \u001b[1;31m#Create\u001b[0m\u001b[1;33m\u001b[0m\u001b[1;33m\u001b[0m\u001b[1;33m\u001b[0m\u001b[0m\n\u001b[0;32m     20\u001b[0m     \u001b[0mneuron_num\u001b[0m \u001b[1;33m=\u001b[0m \u001b[0mmin\u001b[0m\u001b[1;33m(\u001b[0m\u001b[0mlen\u001b[0m\u001b[1;33m(\u001b[0m\u001b[0mspike_times\u001b[0m\u001b[1;33m)\u001b[0m\u001b[1;33m,\u001b[0m\u001b[0mmax_neurons\u001b[0m\u001b[1;33m)\u001b[0m\u001b[1;33m\u001b[0m\u001b[1;33m\u001b[0m\u001b[0m\n\u001b[1;32m---> 21\u001b[1;33m     \u001b[0mspike_dense\u001b[0m \u001b[1;33m=\u001b[0m \u001b[0mnp\u001b[0m\u001b[1;33m.\u001b[0m\u001b[0mzeros\u001b[0m\u001b[1;33m(\u001b[0m\u001b[1;33m(\u001b[0m\u001b[0mneuron_num\u001b[0m\u001b[1;33m,\u001b[0m\u001b[0mt_max\u001b[0m\u001b[1;33m)\u001b[0m\u001b[1;33m)\u001b[0m\u001b[1;33m\u001b[0m\u001b[1;33m\u001b[0m\u001b[0m\n\u001b[0m\u001b[0;32m     22\u001b[0m \u001b[1;33m\u001b[0m\u001b[0m\n\u001b[0;32m     23\u001b[0m \u001b[1;33m\u001b[0m\u001b[0m\n",
      "\u001b[1;31mMemoryError\u001b[0m: Unable to allocate 763. MiB for an array with shape (10, 10000000) and data type float64"
     ]
    }
   ],
   "source": [
    "spike_dense = load_spike_times(spike_list)\n",
    "neu.spikes = spike_dense\n",
    "neu.neurons = spike_dense.shape[0]\n",
    "n = None"
   ]
  },
  {
   "cell_type": "code",
   "execution_count": 234,
   "metadata": {},
   "outputs": [
    {
     "ename": "MemoryError",
     "evalue": "Unable to allocate 7.45 GiB for an array with shape (10, 10, 10000000) and data type float64",
     "output_type": "error",
     "traceback": [
      "\u001b[1;31m---------------------------------------------------------------------------\u001b[0m",
      "\u001b[1;31mMemoryError\u001b[0m                               Traceback (most recent call last)",
      "\u001b[1;32m<ipython-input-234-4a6b3f5bcb51>\u001b[0m in \u001b[0;36m<module>\u001b[1;34m\u001b[0m\n\u001b[1;32m----> 1\u001b[1;33m \u001b[0mneu\u001b[0m\u001b[1;33m.\u001b[0m\u001b[0mspike_correlation\u001b[0m\u001b[1;33m(\u001b[0m\u001b[1;33m)\u001b[0m\u001b[1;33m\u001b[0m\u001b[1;33m\u001b[0m\u001b[0m\n\u001b[0m",
      "\u001b[1;32m~\\Anaconda3\\envs\\bgr\\lib\\site-packages\\braingeneers\\neuron.py\u001b[0m in \u001b[0;36mspike_correlation\u001b[1;34m(self)\u001b[0m\n\u001b[0;32m     91\u001b[0m         \u001b[1;31m#Computes correlation of each neuron combination\u001b[0m\u001b[1;33m\u001b[0m\u001b[1;33m\u001b[0m\u001b[1;33m\u001b[0m\u001b[0m\n\u001b[0;32m     92\u001b[0m \u001b[1;33m\u001b[0m\u001b[0m\n\u001b[1;32m---> 93\u001b[1;33m         \u001b[0mself\u001b[0m\u001b[1;33m.\u001b[0m\u001b[0mcorr_arr\u001b[0m \u001b[1;33m=\u001b[0m \u001b[0mnp\u001b[0m\u001b[1;33m.\u001b[0m\u001b[0mzeros\u001b[0m\u001b[1;33m(\u001b[0m\u001b[1;33m(\u001b[0m\u001b[0mself\u001b[0m\u001b[1;33m.\u001b[0m\u001b[0mneurons\u001b[0m\u001b[1;33m,\u001b[0m\u001b[0mself\u001b[0m\u001b[1;33m.\u001b[0m\u001b[0mneurons\u001b[0m\u001b[1;33m,\u001b[0m\u001b[0mself\u001b[0m\u001b[1;33m.\u001b[0m\u001b[0mspikes\u001b[0m\u001b[1;33m.\u001b[0m\u001b[0mshape\u001b[0m\u001b[1;33m[\u001b[0m\u001b[1;36m1\u001b[0m\u001b[1;33m]\u001b[0m\u001b[1;33m)\u001b[0m\u001b[1;33m)\u001b[0m\u001b[1;33m\u001b[0m\u001b[1;33m\u001b[0m\u001b[0m\n\u001b[0m\u001b[0;32m     94\u001b[0m \u001b[1;33m\u001b[0m\u001b[0m\n\u001b[0;32m     95\u001b[0m         \u001b[1;32mfor\u001b[0m \u001b[0mi\u001b[0m \u001b[1;32min\u001b[0m \u001b[0mrange\u001b[0m\u001b[1;33m(\u001b[0m\u001b[0mself\u001b[0m\u001b[1;33m.\u001b[0m\u001b[0mneurons\u001b[0m\u001b[1;33m)\u001b[0m\u001b[1;33m:\u001b[0m\u001b[1;33m\u001b[0m\u001b[1;33m\u001b[0m\u001b[0m\n",
      "\u001b[1;31mMemoryError\u001b[0m: Unable to allocate 7.45 GiB for an array with shape (10, 10, 10000000) and data type float64"
     ]
    }
   ],
   "source": [
    "neu.spike_correlation()"
   ]
  },
  {
   "cell_type": "code",
   "execution_count": 116,
   "metadata": {},
   "outputs": [
    {
     "data": {
      "text/plain": [
       "20340.723689209928"
      ]
     },
     "execution_count": 116,
     "metadata": {},
     "output_type": "execute_result"
    }
   ],
   "source": [
    "rat = (280000000000000/(6590*584876602))\n",
    "d = rat*100*28000*1000000\n",
    "d/10000000000"
   ]
  },
  {
   "cell_type": "code",
   "execution_count": 159,
   "metadata": {},
   "outputs": [
    {
     "ename": "IndexError",
     "evalue": "index 1000 is out of bounds for axis 0 with size 28",
     "output_type": "error",
     "traceback": [
      "\u001b[1;31m---------------------------------------------------------------------------\u001b[0m",
      "\u001b[1;31mIndexError\u001b[0m                                Traceback (most recent call last)",
      "\u001b[1;32m<ipython-input-159-7d854096c4da>\u001b[0m in \u001b[0;36m<module>\u001b[1;34m\u001b[0m\n\u001b[1;32m----> 1\u001b[1;33m \u001b[0mn\u001b[0m\u001b[1;33m[\u001b[0m\u001b[1;36m1000\u001b[0m\u001b[1;33m]\u001b[0m\u001b[1;33m.\u001b[0m\u001b[0mspike_time\u001b[0m\u001b[1;33m\u001b[0m\u001b[1;33m\u001b[0m\u001b[0m\n\u001b[0m",
      "\u001b[1;31mIndexError\u001b[0m: index 1000 is out of bounds for axis 0 with size 28"
     ]
    }
   ],
   "source": [
    "n[1000].spike_time"
   ]
  },
  {
   "cell_type": "code",
   "execution_count": 67,
   "metadata": {},
   "outputs": [
    {
     "data": {
      "text/plain": [
       "array([  11524,   20450,   27704,   28977,  104576,  109195,  136633,\n",
       "        167017,  247861,  263201,  329277,  369408,  382535,  385149,\n",
       "        434920,  526413,  537898,  548445,  635387,  703211,  733563,\n",
       "        868588,  949564, 1020799, 1026539, 1032596, 1107148, 1121996,\n",
       "       1122603, 1206701, 1225443, 1257317, 1285423, 1286545, 1299697,\n",
       "       1312105, 1315346, 1326692, 1362921, 1369658, 1399473, 1400727,\n",
       "       1450318, 1450546, 1462506, 1611380, 1618651, 1656799, 1660188,\n",
       "       1718234, 1731235, 1757949, 1786780, 1798148, 1805600, 1936752,\n",
       "       1961613, 2020005, 2036810, 2052011, 2158641, 2220750, 2347806,\n",
       "       2486839, 2560881, 2571897, 2586134, 2605786, 2666517, 2667285,\n",
       "       2683745, 2707932, 2712158, 2743393, 2758081, 2772133, 2777617,\n",
       "       2793835, 2877838, 2943230, 2955479, 3022628, 3080515, 3082263,\n",
       "       3108552, 3169075, 3182499, 3231644, 3233908, 3257982, 3305743,\n",
       "       3381991, 3390259, 3394913, 3429524, 3433073, 3460453, 3521486,\n",
       "       3556731, 3564472], dtype=int64)"
      ]
     },
     "execution_count": 67,
     "metadata": {},
     "output_type": "execute_result"
    }
   ],
   "source": []
  },
  {
   "cell_type": "code",
   "execution_count": 202,
   "metadata": {},
   "outputs": [],
   "source": [
    "from braingeneers import neuron"
   ]
  },
  {
   "cell_type": "code",
   "execution_count": 203,
   "metadata": {},
   "outputs": [
    {
     "data": {
      "text/plain": [
       "<module 'braingeneers.neuron' from 'C:\\\\Users\\\\Ash\\\\Anaconda3\\\\envs\\\\bgr\\\\lib\\\\site-packages\\\\braingeneers\\\\neuron.py'>"
      ]
     },
     "execution_count": 203,
     "metadata": {},
     "output_type": "execute_result"
    }
   ],
   "source": [
    "neuron"
   ]
  },
  {
   "cell_type": "code",
   "execution_count": 210,
   "metadata": {},
   "outputs": [],
   "source": [
    "from braingeneers import neuron"
   ]
  },
  {
   "cell_type": "code",
   "execution_count": 214,
   "metadata": {},
   "outputs": [],
   "source": [
    "n = neuron.Neuron('test')"
   ]
  },
  {
   "cell_type": "code",
   "execution_count": 215,
   "metadata": {},
   "outputs": [
    {
     "ename": "AttributeError",
     "evalue": "'Neuron' object has no attribute 'load_spike_times'",
     "output_type": "error",
     "traceback": [
      "\u001b[1;31m---------------------------------------------------------------------------\u001b[0m",
      "\u001b[1;31mAttributeError\u001b[0m                            Traceback (most recent call last)",
      "\u001b[1;32m<ipython-input-215-87319af68ce2>\u001b[0m in \u001b[0;36m<module>\u001b[1;34m\u001b[0m\n\u001b[1;32m----> 1\u001b[1;33m \u001b[0mn\u001b[0m\u001b[1;33m.\u001b[0m\u001b[0mload_spike_times\u001b[0m\u001b[1;33m(\u001b[0m\u001b[0mspike_times\u001b[0m\u001b[1;33m)\u001b[0m\u001b[1;33m\u001b[0m\u001b[1;33m\u001b[0m\u001b[0m\n\u001b[0m",
      "\u001b[1;31mAttributeError\u001b[0m: 'Neuron' object has no attribute 'load_spike_times'"
     ]
    }
   ],
   "source": [
    "n.load_spike_times(spike_times)"
   ]
  },
  {
   "cell_type": "code",
   "execution_count": 216,
   "metadata": {},
   "outputs": [
    {
     "ename": "ImportError",
     "evalue": "attempted relative import with no known parent package",
     "output_type": "error",
     "traceback": [
      "\u001b[1;31m---------------------------------------------------------------------------\u001b[0m",
      "\u001b[1;31mImportError\u001b[0m                               Traceback (most recent call last)",
      "\u001b[1;32m<ipython-input-216-bb19e10d431d>\u001b[0m in \u001b[0;36m<module>\u001b[1;34m\u001b[0m\n\u001b[1;32m----> 1\u001b[1;33m \u001b[1;32mfrom\u001b[0m \u001b[1;33m.\u001b[0m\u001b[1;33m.\u001b[0m\u001b[0mbraingeneerspy\u001b[0m\u001b[1;33m.\u001b[0m\u001b[0mbraingeneers\u001b[0m \u001b[1;32mimport\u001b[0m \u001b[0mneuron\u001b[0m\u001b[1;33m\u001b[0m\u001b[1;33m\u001b[0m\u001b[0m\n\u001b[0m",
      "\u001b[1;31mImportError\u001b[0m: attempted relative import with no known parent package"
     ]
    }
   ],
   "source": [
    "from ..braingeneerspy.braingeneers import neuron"
   ]
  },
  {
   "cell_type": "code",
   "execution_count": 219,
   "metadata": {},
   "outputs": [],
   "source": [
    "\n",
    "import braingeneers.neuron"
   ]
  },
  {
   "cell_type": "code",
   "execution_count": 223,
   "metadata": {},
   "outputs": [],
   "source": [
    "neu = neuron.Neuron('test')"
   ]
  },
  {
   "cell_type": "code",
   "execution_count": 221,
   "metadata": {},
   "outputs": [],
   "source": []
  },
  {
   "cell_type": "code",
   "execution_count": null,
   "metadata": {},
   "outputs": [],
   "source": []
  }
 ],
 "metadata": {
  "kernelspec": {
   "display_name": "Python 3",
   "language": "python",
   "name": "python3"
  },
  "language_info": {
   "codemirror_mode": {
    "name": "ipython",
    "version": 3
   },
   "file_extension": ".py",
   "mimetype": "text/x-python",
   "name": "python",
   "nbconvert_exporter": "python",
   "pygments_lexer": "ipython3",
   "version": "3.7.7"
  }
 },
 "nbformat": 4,
 "nbformat_minor": 4
}
