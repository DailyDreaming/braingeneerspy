{
 "cells": [
  {
   "cell_type": "code",
   "execution_count": 1,
   "metadata": {},
   "outputs": [],
   "source": [
    "import numpy as np\n",
    "import matplotlib\n",
    "from matplotlib import pyplot as plt\n",
    "from matplotlib import cm\n",
    "import neuraltoolkit as ntk\n",
    "import pandas as pd\n",
    "import sklearn\n",
    "from sklearn.preprocessing import StandardScaler\n",
    "from sklearn.decomposition import PCA\n",
    "from sklearn.datasets import load_digits\n",
    "from sklearn.cluster import KMeans\n",
    "import copy\n",
    "#import mgktools as mgk\n",
    "import musclebeachtools as mbt\n",
    "#Need to add musclebeachtools to path\n",
    "\n",
    "import spikeinterface.extractors as se\n",
    "import spikeinterface.toolkit as st\n",
    "import spikeinterface.sorters as ss\n",
    "import spikeinterface.comparison as sc\n",
    "import spikeinterface.widgets as sw\n",
    "import mountainlab_pytools as mtlp\n",
    "\n",
    "import tkinter as tk\n",
    "from tkinter import filedialog\n",
    "\n",
    "import numpy as np\n",
    "import matplotlib.pyplot as plt\n",
    "#%matplotlib\n",
    "#import matplotlib.backends.backend_pdf as mpdf\n",
    "import seaborn as sns\n",
    "import json\n",
    "import time\n",
    "import os\n",
    "import os.path as op\n",
    "import glob\n",
    "import re\n",
    "import scipy\n",
    "import sys\n",
    "import boto3\n",
    "\n",
    "\n",
    "%matplotlib inline\n",
    "plt.rcParams.update({\"text.usetex\":False})"
   ]
  },
  {
   "cell_type": "markdown",
   "metadata": {},
   "source": [
    "# This needs to be adjusted/generalized"
   ]
  },
  {
   "cell_type": "code",
   "execution_count": 2,
   "metadata": {},
   "outputs": [],
   "source": [
    "sys.path.append('C:\\\\Users\\\\Ash\\\\github\\\\musclebeachtools_hlab')"
   ]
  },
  {
   "cell_type": "code",
   "execution_count": null,
   "metadata": {},
   "outputs": [],
   "source": []
  },
  {
   "cell_type": "code",
   "execution_count": 3,
   "metadata": {},
   "outputs": [],
   "source": [
    "def spiketimes_to_spikewords(spiketimes, startime, stoptime, binsize, binarize): \n",
    "    ### ARGUMENTS\n",
    "    #spiketimes - list of spiketime arrays where each element of list is for a different neuron (e.g. the output of getspikes())\n",
    "    #startime,stoptime - bounds of time to convert to spikewords (in seconds)\n",
    "    #binsize - size of bin in milliseconds\n",
    "    #binarize - '1' to convert to 0's and 1's, '0' to keep as histogram counts\n",
    "    ### RETURNS\n",
    "    #array of spikewords with each column as a cell and each rows as time in bins \n",
    "    \n",
    "    #get sec_time to bin conversion factor\n",
    "    #startime in bins\n",
    "    startime_ms = startime * 1000\n",
    "    stoptime_ms = stoptime * 1000\n",
    "    binrange = np.arange(start = startime_ms, stop = stoptime_ms+1, step = binsize)\n",
    "    n_cells = len(spiketimes)\n",
    "\n",
    "    spikewords_array = np.zeros([n_cells, binrange.shape[0]-1])\n",
    "    for i in range(n_cells):\n",
    "        spiketimes_cell = spiketimes[i] * 1000 #spiketimes in seconds * 1000 msec/sec\n",
    "        counts, bins = np.histogram(spiketimes_cell, bins = binrange)\n",
    "        if binarize == 1:\n",
    "            #binarize the counts\n",
    "            counts[counts>0] = 1\n",
    "        # print(counts.astype(np.int))\n",
    "        spikewords_array[i,:] = counts\n",
    "    return(spikewords_array.astype(np.int8).T)"
   ]
  },
  {
   "cell_type": "markdown",
   "metadata": {},
   "source": [
    "# List/select from s3, use boto"
   ]
  },
  {
   "cell_type": "code",
   "execution_count": 4,
   "metadata": {},
   "outputs": [
    {
     "name": "stdout",
     "output_type": "stream",
     "text": [
      "2020-08-19 21:41:19    2060999 rasters.zip\n",
      "2020-08-20 00:31:51   84538420 spikeintf_well_A1_chgroup_1.zip\n",
      "2020-08-20 00:31:07   65328019 spikeintf_well_A1_chgroup_2.zip\n",
      "2020-08-20 00:19:03   66966749 spikeintf_well_A1_chgroup_3.zip\n",
      "2020-08-20 00:39:14   92616758 spikeintf_well_A2_chgroup_1.zip\n",
      "2020-08-20 00:17:49   95908691 spikeintf_well_A2_chgroup_2.zip\n",
      "2020-08-20 00:19:29   70411390 spikeintf_well_A2_chgroup_3.zip\n",
      "2020-08-20 00:31:50   99927074 spikeintf_well_A2_chgroup_4.zip\n",
      "2020-08-20 00:18:44  106986646 spikeintf_well_A2_chgroup_5.zip\n",
      "2020-08-20 00:21:54   80408305 spikeintf_well_A2_chgroup_6.zip\n",
      "2020-08-20 00:21:12   36064377 spikeintf_well_A3_chgroup_1.zip\n",
      "2020-08-20 00:23:42   80976232 spikeintf_well_B1_chgroup_1.zip\n",
      "2020-08-20 00:24:48  110808978 spikeintf_well_B1_chgroup_2.zip\n",
      "2020-08-20 00:26:42   92682115 spikeintf_well_B1_chgroup_3.zip\n",
      "2020-08-20 00:27:02   83125882 spikeintf_well_B1_chgroup_4.zip\n",
      "2020-08-20 00:30:13  118010892 spikeintf_well_B1_chgroup_5.zip\n",
      "2020-08-20 00:31:01   78098213 spikeintf_well_B1_chgroup_6.zip\n",
      "2020-08-20 00:29:37   78707412 spikeintf_well_B2_chgroup_1.zip\n",
      "2020-08-20 00:31:27  136864278 spikeintf_well_B2_chgroup_2.zip\n",
      "2020-08-20 00:39:39  165325175 spikeintf_well_B2_chgroup_3.zip\n",
      "2020-08-20 00:34:40  131205284 spikeintf_well_B2_chgroup_4.zip\n",
      "2020-08-20 00:38:52  105310133 spikeintf_well_B2_chgroup_5.zip\n",
      "2020-08-20 00:41:19   76893852 spikeintf_well_B2_chgroup_6.zip\n",
      "2020-08-20 00:43:47  133023138 spikeintf_well_B2_chgroup_7.zip\n",
      "2020-08-20 00:54:18  172704519 spikeintf_well_B2_chgroup_8.zip\n",
      "2020-08-20 00:40:55  110084315 spikeintf_well_B3_chgroup_1.zip\n",
      "2020-08-20 00:54:49   73033156 spikeintf_well_B3_chgroup_2.zip\n",
      "2020-08-20 00:57:48  136724198 spikeintf_well_B3_chgroup_3.zip\n",
      "2020-08-20 00:49:44   80763355 spikeintf_well_B3_chgroup_4.zip\n",
      "2020-08-20 00:48:56  109760175 spikeintf_well_B3_chgroup_5.zip\n"
     ]
    }
   ],
   "source": [
    "!aws --endpoint https://s3.nautilus.optiputer.net s3 ls s3://braingeneers/ephys/2020-07-06-e-MGK-76-2614-PreDrug/mgk_results/"
   ]
  },
  {
   "cell_type": "code",
   "execution_count": 5,
   "metadata": {},
   "outputs": [],
   "source": [
    "# import boto3\n",
    "\n",
    "# s3 = boto3.resource('s3')\n",
    "# bucket = s3.Bucket('https://braingeneers.s3.us-west-1.amazonaws.com')\n",
    "# for obj in bucket.objects.all():\n",
    "#     print(obj.key, obj.last_modified)"
   ]
  },
  {
   "cell_type": "code",
   "execution_count": 6,
   "metadata": {},
   "outputs": [],
   "source": [
    "\n",
    "# session = boto3.Session(profile_name='default',config=my_config)\n",
    "\n",
    "\n",
    "# s3 = session.resource('s3')\n",
    "# my_bucket = s3.Bucket('braingeneers/')\n",
    "\n",
    "# s3client = boto3.client('s3',config=my_config)\n",
    "\n",
    "# response = s3client.list_buckets()\n",
    "\n",
    "\n",
    "# print('Existing buckets:')\n",
    "# for bucket in response['Buckets']:\n",
    "#     print(f'  {bucket[\"Name\"]}')"
   ]
  },
  {
   "cell_type": "code",
   "execution_count": 7,
   "metadata": {},
   "outputs": [],
   "source": [
    "# s3.list_buckets()\n",
    "\n",
    "# for my_bucket_object in my_bucket.objects.all():\n",
    "#     print(my_bucket_object)"
   ]
  },
  {
   "cell_type": "code",
   "execution_count": 8,
   "metadata": {},
   "outputs": [],
   "source": [
    "# for key in s3client.list_objects(Bucket='bucket_name')['Contents']:\n",
    "#     print(key['Key'])"
   ]
  },
  {
   "cell_type": "markdown",
   "metadata": {},
   "source": [
    "# When downloaded locally: \n",
    "Load in data"
   ]
  },
  {
   "cell_type": "code",
   "execution_count": null,
   "metadata": {},
   "outputs": [],
   "source": [
    "\n"
   ]
  },
  {
   "cell_type": "raw",
   "metadata": {},
   "source": [
    "!aws --endpoint https://s3.nautilus.optiputer.net s3 sync s3://braingeneers/ephys/2020-07-06-e-MGK-76-2614-PreDrug/mgk_results/ matt/."
   ]
  },
  {
   "cell_type": "markdown",
   "metadata": {},
   "source": [
    "# Change wd to results dir from download"
   ]
  },
  {
   "cell_type": "code",
   "execution_count": 9,
   "metadata": {},
   "outputs": [
    {
     "name": "stdout",
     "output_type": "stream",
     "text": [
      "C:\\Users\\Ash\\github\\braingeneerspy\\tests\n",
      "Changed to:  C:\\Users\\Ash\\Desktop\\matt\\root\\data\\2020-07-06-e-MGK-76-2614-PreDrug\\results\n"
     ]
    }
   ],
   "source": [
    "print(os.getcwd())\n",
    "os.chdir('../../../Desktop/matt/root/data/2020-07-06-e-MGK-76-2614-PreDrug/results')\n",
    "print('Changed to: ',os.getcwd())\n"
   ]
  },
  {
   "cell_type": "code",
   "execution_count": 10,
   "metadata": {},
   "outputs": [],
   "source": [
    "# I hate this, fix?\n",
    "sys.modules['musclebeachtools_hlab'] = sys.modules['musclebeachtools']\n",
    "sys.modules['musclebeachtools_hlab.musclebeachtools'] = sys.modules['musclebeachtools']"
   ]
  },
  {
   "cell_type": "markdown",
   "metadata": {},
   "source": [
    "# Load in data for well A1 channel"
   ]
  },
  {
   "cell_type": "code",
   "execution_count": 11,
   "metadata": {},
   "outputs": [
    {
     "name": "stderr",
     "output_type": "stream",
     "text": [
      "2020-11-02 23:37:50,987 - musclebeachtools_hlab.musclebeachtools.mbt_neurons - INFO - Updating spike_amplitude\n",
      "2020-11-02 23:37:50,993 - musclebeachtools_hlab.musclebeachtools.mbt_neurons - INFO - Updating spike_amplitude\n",
      "2020-11-02 23:37:50,998 - musclebeachtools_hlab.musclebeachtools.mbt_neurons - INFO - Updating spike_amplitude\n"
     ]
    }
   ],
   "source": [
    "well='A1ch'\n",
    "c=0\n",
    "n = None\n",
    "for f in sorted(glob.glob(well+'*')):\n",
    "    n_temp = np.load(f+'/spikeintf/outputs/neurons_group0.npy', allow_pickle=True)\n",
    "    n_amp = mbt.mbt_neurons.load_spike_amplitudes(n_temp, f+'/spikeintf/outputs/amplitudes0.npy')\n",
    "    \n",
    "    n_prb = open(glob.glob(f+'/spikeintf/inputs/*probefile.prb')[0])\n",
    "    lines = n_prb.readlines()\n",
    "    real_chans = []\n",
    "    s = lines[5]\n",
    "    n = s.split()\n",
    "    for chan in range(1,len(n)):\n",
    "        #print(n[chan])\n",
    "        result = re.search('c_(.*)\\'', n[chan])\n",
    "        real_chans.append(int(result.group(1)))\n",
    "        \n",
    "    for i in range(len(n_temp)):\n",
    "        chan = n_temp[i].peak_channel\n",
    "        #print(chan)\n",
    "        n_temp[i].peak_channel = real_chans[chan]\n",
    "    \n",
    "    n_prb.close()\n",
    "    \n",
    "    if c == 0:\n",
    "        nrn = n_temp\n",
    "    else:\n",
    "        nrn = np.append(nrn, n_temp)\n",
    "    \n",
    "    c = c+1\n",
    "    \n",
    "n = nrn"
   ]
  },
  {
   "cell_type": "code",
   "execution_count": 12,
   "metadata": {},
   "outputs": [
    {
     "data": {
      "text/plain": [
       "array(['Neuron(sp_cluster, sp_times, quality, meanwaveform,meanwaveformspline, peak_channel)',\n",
       "       'Neuron(sp_cluster, sp_times, quality, meanwaveform,meanwaveformspline, peak_channel)',\n",
       "       'Neuron(sp_cluster, sp_times, quality, meanwaveform,meanwaveformspline, peak_channel)',\n",
       "       'Neuron(sp_cluster, sp_times, quality, meanwaveform,meanwaveformspline, peak_channel)',\n",
       "       'Neuron(sp_cluster, sp_times, quality, meanwaveform,meanwaveformspline, peak_channel)',\n",
       "       'Neuron(sp_cluster, sp_times, quality, meanwaveform,meanwaveformspline, peak_channel)',\n",
       "       'Neuron(sp_cluster, sp_times, quality, meanwaveform,meanwaveformspline, peak_channel)',\n",
       "       'Neuron(sp_cluster, sp_times, quality, meanwaveform,meanwaveformspline, peak_channel)',\n",
       "       'Neuron(sp_cluster, sp_times, quality, meanwaveform,meanwaveformspline, peak_channel)',\n",
       "       'Neuron(sp_cluster, sp_times, quality, meanwaveform,meanwaveformspline, peak_channel)',\n",
       "       'Neuron(sp_cluster, sp_times, quality, meanwaveform,meanwaveformspline, peak_channel)',\n",
       "       'Neuron(sp_cluster, sp_times, quality, meanwaveform,meanwaveformspline, peak_channel)',\n",
       "       'Neuron(sp_cluster, sp_times, quality, meanwaveform,meanwaveformspline, peak_channel)',\n",
       "       'Neuron(sp_cluster, sp_times, quality, meanwaveform,meanwaveformspline, peak_channel)',\n",
       "       'Neuron(sp_cluster, sp_times, quality, meanwaveform,meanwaveformspline, peak_channel)',\n",
       "       'Neuron(sp_cluster, sp_times, quality, meanwaveform,meanwaveformspline, peak_channel)',\n",
       "       'Neuron(sp_cluster, sp_times, quality, meanwaveform,meanwaveformspline, peak_channel)',\n",
       "       'Neuron(sp_cluster, sp_times, quality, meanwaveform,meanwaveformspline, peak_channel)',\n",
       "       'Neuron(sp_cluster, sp_times, quality, meanwaveform,meanwaveformspline, peak_channel)',\n",
       "       'Neuron(sp_cluster, sp_times, quality, meanwaveform,meanwaveformspline, peak_channel)',\n",
       "       'Neuron(sp_cluster, sp_times, quality, meanwaveform,meanwaveformspline, peak_channel)',\n",
       "       'Neuron(sp_cluster, sp_times, quality, meanwaveform,meanwaveformspline, peak_channel)',\n",
       "       'Neuron(sp_cluster, sp_times, quality, meanwaveform,meanwaveformspline, peak_channel)',\n",
       "       'Neuron(sp_cluster, sp_times, quality, meanwaveform,meanwaveformspline, peak_channel)',\n",
       "       'Neuron(sp_cluster, sp_times, quality, meanwaveform,meanwaveformspline, peak_channel)',\n",
       "       'Neuron(sp_cluster, sp_times, quality, meanwaveform,meanwaveformspline, peak_channel)',\n",
       "       'Neuron(sp_cluster, sp_times, quality, meanwaveform,meanwaveformspline, peak_channel)',\n",
       "       'Neuron(sp_cluster, sp_times, quality, meanwaveform,meanwaveformspline, peak_channel)'],\n",
       "      dtype=object)"
      ]
     },
     "execution_count": 12,
     "metadata": {},
     "output_type": "execute_result"
    }
   ],
   "source": [
    "n"
   ]
  },
  {
   "cell_type": "code",
   "execution_count": 13,
   "metadata": {},
   "outputs": [
    {
     "name": "stdout",
     "output_type": "stream",
     "text": [
      "clust_idx\n",
      "spike_time\n",
      "quality\n",
      "waveform\n",
      "waveforms\n",
      "peak_channel\n",
      "fs\n",
      "start_time\n",
      "end_time\n",
      "waveform_tetrodes\n",
      "on_times\n",
      "off_times\n",
      "key\n",
      "cell_type\n",
      "mean_amplitude\n",
      "spike_amplitude\n"
     ]
    }
   ],
   "source": [
    "for k in n[0].__dict__.keys():\n",
    "    print(k)"
   ]
  },
  {
   "cell_type": "code",
   "execution_count": 15,
   "metadata": {},
   "outputs": [
    {
     "data": {
      "text/plain": [
       "[<matplotlib.collections.EventCollection at 0x261f4e87988>]"
      ]
     },
     "execution_count": 15,
     "metadata": {},
     "output_type": "execute_result"
    },
    {
     "data": {
      "image/png": "[encoded data removed]",
      "text/plain": [
       "<Figure size 432x288 with 1 Axes>"
      ]
     },
     "metadata": {
      "needs_background": "light"
     },
     "output_type": "display_data"
    }
   ],
   "source": [
    "spikes = [n[1].spike_time,n[2].spike_time]\n",
    "# plt.eventplot(n[1].spike_time[:100])\n",
    "# plt.eventplot(n[2].spike_time[:100],lineoffsets=3)\n",
    "# plt.eventplot(n[3].spike_time[:100],lineoffsets=5)\n",
    "plt.eventplot(n[4].spike_time[:100],lineoffsets=7)\n",
    "# for i in range(100):\n",
    "#     plt.eventplot(n[i].spike_time[:100],lineoffsets=i)"
   ]
  },
  {
   "cell_type": "code",
   "execution_count": 16,
   "metadata": {},
   "outputs": [],
   "source": [
    "from scipy  import sparse\n",
    "from scipy  import signal\n",
    "\n",
    "from scipy.sparse import csr_matrix"
   ]
  },
  {
   "cell_type": "code",
   "execution_count": 17,
   "metadata": {},
   "outputs": [],
   "source": [
    "spike_list = []\n",
    "for i in range(len(n)):\n",
    "    spike_list.append(n[i].spike_time)"
   ]
  },
  {
   "cell_type": "code",
   "execution_count": 18,
   "metadata": {},
   "outputs": [],
   "source": [
    "def load_spike_times(spike_times,fs=1,window_size=10000000,max_neurons=10):\n",
    "    '''Take in list of list of spike times\n",
    "    spike_times[0] -> list of spike times for neuron 0\n",
    "    spike_times[0][10] -> neuron zero at timestep 10\n",
    "    \n",
    "    outputs dense array of size (neurons, timesteps)\n",
    "    '''\n",
    "        \n",
    "    spike_times = copy.deepcopy(spike_times)\n",
    "    \n",
    "    t_max = 0\n",
    "    for neuron in spike_times:\n",
    "        cur_t_max = max(neuron)\n",
    "        if cur_t_max > t_max:\n",
    "            t_max = cur_t_max\n",
    "            \n",
    "            \n",
    "    t_max = np.min([t_max+1,window_size])\n",
    "    #Create\n",
    "    neuron_num = min(len(spike_times),max_neurons)\n",
    "    spike_dense = np.zeros((neuron_num,t_max))\n",
    "\n",
    "\n",
    "    for neuron_index, waveform in enumerate(spike_times):\n",
    "        if neuron_index >= max_neurons:\n",
    "            break\n",
    "        for timestep in waveform:\n",
    "            if timestep >= t_max:\n",
    "                break\n",
    "            spike_dense[neuron_index,timestep] = 1\n",
    "\n",
    "    return spike_dense\n"
   ]
  },
  {
   "cell_type": "code",
   "execution_count": null,
   "metadata": {
    "scrolled": true
   },
   "outputs": [],
   "source": [
    "spike_dense = load_spike_times(spike_list)\n",
    "neu.spikes = spike_dense\n",
    "neu.neurons = spike_dense.shape[0]\n",
    "n = None"
   ]
  },
  {
   "cell_type": "code",
   "execution_count": 19,
   "metadata": {},
   "outputs": [
    {
     "name": "stdout",
     "output_type": "stream",
     "text": [
      "Help on module braingeneers.neuron in braingeneers:\n",
      "\n",
      "NAME\n",
      "    braingeneers.neuron\n",
      "\n",
      "CLASSES\n",
      "    builtins.object\n",
      "        Neuron\n",
      "    \n",
      "    class Neuron(builtins.object)\n",
      "     |  Neuron(uuid, spike_sorted=True)\n",
      "     |  \n",
      "     |  Methods defined here:\n",
      "     |  \n",
      "     |  __init__(self, uuid, spike_sorted=True)\n",
      "     |      Initialize self.  See help(type(self)) for accurate signature.\n",
      "     |  \n",
      "     |  load_map(self, map_arr=None)\n",
      "     |  \n",
      "     |  load_spikes_test(self, neurons=10, length=1000, fs=1000)\n",
      "     |  \n",
      "     |  plot_correlation(self, lag_time=0)\n",
      "     |  \n",
      "     |  plot_spikes(self)\n",
      "     |  \n",
      "     |  spike_correlation(self)\n",
      "     |  \n",
      "     |  ----------------------------------------------------------------------\n",
      "     |  Data descriptors defined here:\n",
      "     |  \n",
      "     |  __dict__\n",
      "     |      dictionary for instance variables (if defined)\n",
      "     |  \n",
      "     |  __weakref__\n",
      "     |      list of weak references to the object (if defined)\n",
      "\n",
      "FILE\n",
      "    c:\\users\\ash\\anaconda3\\envs\\bgr\\lib\\site-packages\\braingeneers\\neuron.py\n",
      "\n",
      "\n"
     ]
    }
   ],
   "source": [
    "from braingeneers import neuron\n",
    "help(neuron)\n"
   ]
  },
  {
   "cell_type": "code",
   "execution_count": null,
   "metadata": {},
   "outputs": [],
   "source": [
    "rat = (280000000000000/(6590*584876602))\n",
    "d = rat*100*28000*1000000\n",
    "d/10000000000"
   ]
  },
  {
   "cell_type": "code",
   "execution_count": null,
   "metadata": {},
   "outputs": [],
   "source": [
    "n[1000].spike_time"
   ]
  },
  {
   "cell_type": "code",
   "execution_count": null,
   "metadata": {},
   "outputs": [],
   "source": []
  },
  {
   "cell_type": "code",
   "execution_count": null,
   "metadata": {},
   "outputs": [],
   "source": [
    "from braingeneers import neuron"
   ]
  },
  {
   "cell_type": "code",
   "execution_count": null,
   "metadata": {},
   "outputs": [],
   "source": [
    "neuron"
   ]
  },
  {
   "cell_type": "code",
   "execution_count": null,
   "metadata": {},
   "outputs": [],
   "source": [
    "from braingeneers import neuron"
   ]
  },
  {
   "cell_type": "code",
   "execution_count": null,
   "metadata": {},
   "outputs": [],
   "source": [
    "n = neuron.Neuron('test')"
   ]
  },
  {
   "cell_type": "code",
   "execution_count": null,
   "metadata": {},
   "outputs": [],
   "source": [
    "n.load_spike_times(spike_times)"
   ]
  },
  {
   "cell_type": "code",
   "execution_count": null,
   "metadata": {},
   "outputs": [],
   "source": [
    "from ..braingeneerspy.braingeneers import neuron"
   ]
  },
  {
   "cell_type": "code",
   "execution_count": null,
   "metadata": {},
   "outputs": [],
   "source": [
    "\n",
    "import braingeneers.neuron"
   ]
  },
  {
   "cell_type": "code",
   "execution_count": null,
   "metadata": {},
   "outputs": [],
   "source": [
    "neu = neuron.Neuron('test')"
   ]
  },
  {
   "cell_type": "code",
   "execution_count": null,
   "metadata": {},
   "outputs": [],
   "source": []
  },
  {
   "cell_type": "code",
   "execution_count": null,
   "metadata": {},
   "outputs": [],
   "source": []
  }
 ],
 "metadata": {
  "kernelspec": {
   "display_name": "Python 3",
   "language": "python",
   "name": "python3"
  },
  "language_info": {
   "codemirror_mode": {
    "name": "ipython",
    "version": 3
   },
   "file_extension": ".py",
   "mimetype": "text/x-python",
   "name": "python",
   "nbconvert_exporter": "python",
   "pygments_lexer": "ipython3",
   "version": "3.7.7"
  }
 },
 "nbformat": 4,
 "nbformat_minor": 4
}
