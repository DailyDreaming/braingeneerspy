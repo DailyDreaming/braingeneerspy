{
 "cells": [
  {
   "cell_type": "code",
   "execution_count": 1,
   "metadata": {},
   "outputs": [],
   "source": [
    "import os\n",
    "import sys\n",
    "import pprint\n",
    "import numpy as np"
   ]
  },
  {
   "cell_type": "code",
   "execution_count": 2,
   "metadata": {},
   "outputs": [],
   "source": [
    "# To load a python package directly from the local file system and automagically\n",
    "# reload when its edited:\n",
    "\n",
    "%load_ext autoreload\n",
    "%autoreload 2\n",
    "\n",
    "import os\n",
    "import sys\n",
    "if os.path.expanduser(\"~/braingeneerspy\") not in sys.path:\n",
    "    sys.path.insert(0, os.path.expanduser(\"~/braingeneerspy\"))\n",
    "\n",
    "# Or install form a github repo by hash\n",
    "\n",
    "# !pip uninstall -y braingeneerspy\n",
    "# !pip install --user --quiet git+https://github.com/braingeneers/braingeneerspy.git@5b17a34\n",
    "\n",
    "import braingeneers.datasets"
   ]
  },
  {
   "cell_type": "code",
   "execution_count": 18,
   "metadata": {},
   "outputs": [
    {
     "name": "stdout",
     "output_type": "stream",
     "text": [
      "env: BRAINGENEERS_ARCHIVE_PATH=/tf/braingeneerspy/tests\n"
     ]
    }
   ],
   "source": [
    "# %env BRAINGENEERS_ARCHIVE_PATH= /public/groups/braingeneers/staging/\n",
    "%env BRAINGENEERS_ARCHIVE_PATH= /tf/braingeneerspy/tests"
   ]
  },
  {
   "cell_type": "code",
   "execution_count": 19,
   "metadata": {},
   "outputs": [
    {
     "name": "stdout",
     "output_type": "stream",
     "text": [
      "test-datasets\r\n"
     ]
    }
   ],
   "source": [
    "!ls $BRAINGENEERS_ARCHIVE_PATH/derived"
   ]
  },
  {
   "cell_type": "code",
   "execution_count": 23,
   "metadata": {},
   "outputs": [
    {
     "name": "stdout",
     "output_type": "stream",
     "text": [
      "{'experiments': ['experiment.json'],\n",
      " 'issue': 'https://github.com/braingeneers/internal/issues/123',\n",
      " 'notes': 'Notes for test datasets batch',\n",
      " 'uuid': 'test-datasets',\n",
      " 'version': '0.1.0'}\n"
     ]
    }
   ],
   "source": [
    "batch = braingeneers.datasets.load_batch(batch_uuid=\"test-datasets\")\n",
    "pprint.pprint(batch)"
   ]
  },
  {
   "cell_type": "code",
   "execution_count": 5,
   "metadata": {},
   "outputs": [
    {
     "name": "stdout",
     "output_type": "stream",
     "text": [
      "{'blocks': [{'num_frames': 60,\n",
      "             'path': 'experiment_190205_193842.bin',\n",
      "             'source': 'original/test/experiment_190205_193842.rhd',\n",
      "             'timestamp': '2019-02-05T19:38:42.314159-08:00'},\n",
      "            {'num_frames': 30,\n",
      "             'path': 'experiment_190205_193942.bin',\n",
      "             'source': 'original/test/experiment_190205_193942.rhd',\n",
      "             'timestamp': '2019-02-05T19:39:42.314159-08:00'}],\n",
      " 'channels': [{'electrode_impedance_magnitude': 0.0,\n",
      "               'electrode_impedance_phase': 0.0},\n",
      "              {'electrode_impedance_magnitude': 0.0,\n",
      "               'electrode_impedance_phase': 0.0},\n",
      "              {'electrode_impedance_magnitude': 0.0,\n",
      "               'electrode_impedance_phase': 0.0},\n",
      "              {'electrode_impedance_magnitude': 0.0,\n",
      "               'electrode_impedance_phase': 0.0}],\n",
      " 'name': 'test',\n",
      " 'notes': 'Notes for test batch',\n",
      " 'offset': 20,\n",
      " 'sample_rate': 1,\n",
      " 'scaler': 0.5,\n",
      " 'timestamp': '2019-02-05T19:37:42.314159-08:00',\n",
      " 'units': 'µV',\n",
      " 'version': '0.1.0'}\n"
     ]
    }
   ],
   "source": [
    "experiment = braingeneers.datasets.load_experiment(batch_uuid=\"test-datasets\", experiment_num=0)\n",
    "pprint.pprint(experiment)"
   ]
  },
  {
   "cell_type": "code",
   "execution_count": 7,
   "metadata": {},
   "outputs": [],
   "source": [
    "X, t, fs = braingeneers.datasets.load_blocks(batch_uuid=\"test-datasets\", experiment_num=0)"
   ]
  }
 ],
 "metadata": {
  "kernelspec": {
   "display_name": "Python 3",
   "language": "python",
   "name": "python3"
  },
  "language_info": {
   "codemirror_mode": {
    "name": "ipython",
    "version": 3
   },
   "file_extension": ".py",
   "mimetype": "text/x-python",
   "name": "python",
   "nbconvert_exporter": "python",
   "pygments_lexer": "ipython3",
   "version": "3.6.7"
  }
 },
 "nbformat": 4,
 "nbformat_minor": 2
}
