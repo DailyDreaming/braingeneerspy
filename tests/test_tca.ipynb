{
 "cells": [
  {
   "cell_type": "code",
   "execution_count": 5,
   "metadata": {},
   "outputs": [],
   "source": [
    "import tensortools as tt\n",
    "import numpy as np\n",
    "import matplotlib.pyplot as plt\n",
    "\n",
    "import musclebeachtools\n",
    "from braingeneers import neuron\n",
    "import glob\n",
    "import sys\n",
    "\n",
    "from scipy.ndimage import gaussian_filter1d"
   ]
  },
  {
   "cell_type": "code",
   "execution_count": 6,
   "metadata": {},
   "outputs": [],
   "source": [
    "sys.modules['musclebeachtools_hlab'] = sys.modules['musclebeachtools']\n",
    "sys.modules['musclebeachtools_hlab.musclebeachtools'] = sys.modules['musclebeachtools']"
   ]
  },
  {
   "cell_type": "code",
   "execution_count": 8,
   "metadata": {},
   "outputs": [],
   "source": [
    "def get_well(chs):\n",
    "    '''chs -- file list in the results folder of the axion data output'''\n",
    "    # Sort\n",
    "    chs = sorted(chs)\n",
    "\n",
    "    # Remove rasters \n",
    "    chs = [ch for ch in chs if 'rasters' not in ch]\n",
    "\n",
    "    well_dict = {}\n",
    "    seen_ch = []\n",
    "\n",
    "    for ch in chs:\n",
    "\n",
    "        well_grp = ch.split('/')[-1]\n",
    "#         print(well_grp)\n",
    "        well, grp = well_grp.split('chgroup')\n",
    "#         print(well,grp)\n",
    "\n",
    "        #Maps group to full name\n",
    "        temp = {well+grp:ch}\n",
    "\n",
    "        if well not in seen_ch:\n",
    "            seen_ch.append(well)\n",
    "            well_dict[well] = {}\n",
    "\n",
    "        well_dict[well][int(grp)] = ch\n",
    "\n",
    "\n",
    "    return well_dict"
   ]
  },
  {
   "cell_type": "markdown",
   "metadata": {},
   "source": [
    "## Load in spike times from experiment"
   ]
  },
  {
   "cell_type": "code",
   "execution_count": null,
   "metadata": {},
   "outputs": [],
   "source": [
    "#List possible experiments\n",
    "chs = glob.glob(\"/Users/seymour/research/braingeneers/ephys/root/data/2020-12-01-e-MGK-primary-axion-stim-500mV-20sec/results/*\")\n",
    "well_dict = get_well(chs)\n",
    "\n",
    "nf = glob.glob(well_dict['A1'][1] + '/spikeintf/outputs/neurons*')\n",
    "data = np.load(nf[0],allow_pickle=True)\n",
    "\n"
   ]
  }
 ],
 "metadata": {
  "kernelspec": {
   "display_name": "bgr",
   "language": "python",
   "name": "bgr"
  },
  "language_info": {
   "codemirror_mode": {
    "name": "ipython",
    "version": 3
   },
   "file_extension": ".py",
   "mimetype": "text/x-python",
   "name": "python",
   "nbconvert_exporter": "python",
   "pygments_lexer": "ipython3",
   "version": "3.8.6"
  }
 },
 "nbformat": 4,
 "nbformat_minor": 2
}
